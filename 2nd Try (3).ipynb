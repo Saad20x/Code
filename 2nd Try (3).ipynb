{
 "cells": [
  {
   "cell_type": "code",
   "execution_count": 3,
   "metadata": {},
   "outputs": [],
   "source": [
    "import pyreadstat\n",
    "import pandas as pd\n",
    "import numpy as np\n",
    "import matplotlib.pyplot as plt\n",
    "%matplotlib inline\n",
    "from sklearn.feature_selection import SelectKBest\n",
    "from sklearn.feature_selection import chi2\n",
    "import pandas as pd\n",
    "import numpy as np\n",
    "from sklearn.model_selection import train_test_split\n",
    "from sklearn.metrics import accuracy_score\n",
    "from sklearn.linear_model import LogisticRegression\n",
    "from sklearn.metrics import classification_report\n",
    "from sklearn.metrics import confusion_matrix,accuracy_score\n",
    "from sklearn.preprocessing import StandardScaler\n",
    "from sklearn.ensemble import RandomForestClassifier\n",
    "\n",
    "\n",
    "df2, meta = pyreadstat.read_sav('C:/Users/saads/OneDrive/Desktop/saadUS.sav')\n"
   ]
  },
  {
   "cell_type": "code",
   "execution_count": 9,
   "metadata": {},
   "outputs": [],
   "source": [
    "from sklearn.feature_selection import SelectKBest\n",
    "from sklearn.feature_selection import f_classif\n",
    "# UNIVARIATE FEATURE SELECTION\n",
    "# drop target columns\n",
    "\n",
    "from sklearn.decomposition import PCA\n",
    "from sklearn import metrics\n",
    "from sklearn.model_selection import train_test_split\n",
    "import pandas as pd\n",
    "from sklearn.linear_model import LogisticRegression\n",
    "from sklearn.preprocessing import StandardScaler\n",
    "import numpy as np\n",
    "\n",
    "\n",
    "data = pd.read_csv('C:/Users/saads/OneDrive/Desktop/saad5.csv', names=['PercentageHighSchool',\n",
    " 'EnglishMarks',\n",
    " 'MathsMarks',\n",
    " 'PhysicsMarks',\n",
    " 'ChemistryMarks',\n",
    " 'BiologyMarks',\n",
    " 'AccountingMarks',\n",
    " 'ComputerMarks',\n",
    " 'ComputerSkills',\n",
    " 'ArtsSkills',\n",
    " 'PsychologySkills',\n",
    " 'MedicalSkills',\n",
    " 'PoliticsSkills',\n",
    " 'MedicalSkills2',\n",
    " 'LawSkills',\n",
    " 'ComputerSkills2',\n",
    " 'BankingSkills',\n",
    " 'BankingSkills2',\n",
    " 'CGPA',\n",
    " 'UniversityDepartment'])\n",
    "features = ['PercentageHighSchool',\n",
    " 'EnglishMarks',\n",
    " 'MathsMarks',\n",
    " 'PhysicsMarks',\n",
    " 'ChemistryMarks',\n",
    " 'BiologyMarks',\n",
    " 'AccountingMarks',\n",
    " 'ComputerMarks',\n",
    " 'ComputerSkills',\n",
    " 'ArtsSkills',\n",
    " 'PsychologySkills',\n",
    " 'MedicalSkills',\n",
    " 'PoliticsSkills',\n",
    " 'MedicalSkills2',\n",
    " 'LawSkills',\n",
    " 'ComputerSkills2',\n",
    " 'BankingSkills',\n",
    " 'BankingSkills2',\n",
    " 'CGPA']\n",
    "\n",
    "\n",
    "drop_cols=['UniversityDepartment']\n",
    "X = data.drop(drop_cols, axis = 1) # X = independent columns (potential predictors)\n",
    "y = data['UniversityDepartment'] # y = target column (what we want to predict)\n",
    "\n"
   ]
  },
  {
   "cell_type": "code",
   "execution_count": 10,
   "metadata": {},
   "outputs": [],
   "source": [
    "from sklearn.datasets import make_friedman1\n",
    "from sklearn.feature_selection import RFE\n",
    "from sklearn.svm import SVR\n"
   ]
  },
  {
   "cell_type": "code",
   "execution_count": 11,
   "metadata": {},
   "outputs": [],
   "source": [
    "#estimator = SVR(kernel=\"linear\")\n",
    "#selector = RFE(estimator, n_features_to_select=12, step=1)\n",
    "#selector = selector.fit(X, y)\n",
    "#selector.support_\n",
    "#Features = X.iloc[ : , selector.support_]\n",
    "#FeaturesFound1 = Features.columns.tolist()\n",
    "#FeaturesFound1"
   ]
  },
  {
   "cell_type": "code",
   "execution_count": 12,
   "metadata": {},
   "outputs": [],
   "source": [
    "\n",
    "# feature extraction - Recursive Feature Elimination\n",
    "#model = LogisticRegression(solver='lbfgs',max_iter=1000)\n",
    "#rfe = RFE(model, 12)\n",
    "#fit = rfe.fit(X, Y)\n",
    "#print(\"\\n\\n Recursive Feature Elimination\")\n",
    "#print(\"Num Features: %d\" % fit.n_features_)\n",
    "#print(\"Selected Features: %s\" % fit.support_)\n",
    "#print(\"Feature Ranking: %s\" % fit.ranking_)\n",
    "#fit.support_\n",
    "#Features = X.iloc[ : , fit.support_]\n",
    "#FeaturesFound2= Features.columns\n",
    "#FeaturesFound2.tolist()"
   ]
  },
  {
   "cell_type": "code",
   "execution_count": 13,
   "metadata": {},
   "outputs": [
    {
     "data": {
      "text/plain": [
       "RandomForestClassifier()"
      ]
     },
     "execution_count": 13,
     "metadata": {},
     "output_type": "execute_result"
    }
   ],
   "source": [
    "rf_model = RandomForestClassifier()\n",
    "rf_model.fit(X,y)"
   ]
  },
  {
   "cell_type": "code",
   "execution_count": 14,
   "metadata": {},
   "outputs": [
    {
     "data": {
      "text/plain": [
       "PercentageHighSchool    0.033603\n",
       "EnglishMarks            0.038257\n",
       "MathsMarks              0.062469\n",
       "PhysicsMarks            0.058092\n",
       "ChemistryMarks          0.055833\n",
       "BiologyMarks            0.049697\n",
       "AccountingMarks         0.067436\n",
       "ComputerMarks           0.059866\n",
       "ComputerSkills          0.057153\n",
       "ArtsSkills              0.039573\n",
       "PsychologySkills        0.034693\n",
       "MedicalSkills           0.048635\n",
       "PoliticsSkills          0.051296\n",
       "MedicalSkills2          0.062704\n",
       "LawSkills               0.045904\n",
       "ComputerSkills2         0.075893\n",
       "BankingSkills           0.057304\n",
       "BankingSkills2          0.064716\n",
       "CGPA                    0.036876\n",
       "dtype: float64"
      ]
     },
     "execution_count": 14,
     "metadata": {},
     "output_type": "execute_result"
    }
   ],
   "source": [
    "feat_importances = pd.Series(rf_model.feature_importances_, index=X.columns)\n",
    "feat_importances"
   ]
  },
  {
   "cell_type": "code",
   "execution_count": 15,
   "metadata": {},
   "outputs": [
    {
     "data": {
      "text/plain": [
       "['ComputerSkills2',\n",
       " 'AccountingMarks',\n",
       " 'BankingSkills2',\n",
       " 'MedicalSkills2',\n",
       " 'MathsMarks',\n",
       " 'ComputerMarks',\n",
       " 'PhysicsMarks',\n",
       " 'BankingSkills',\n",
       " 'ComputerSkills',\n",
       " 'ChemistryMarks',\n",
       " 'PoliticsSkills',\n",
       " 'BiologyMarks']"
      ]
     },
     "execution_count": 15,
     "metadata": {},
     "output_type": "execute_result"
    }
   ],
   "source": [
    "# determine 12 most important features\n",
    "df_imp_feat = feat_importances.nlargest(12)\n",
    "# print(rf_model.feature_importances_)\n",
    "#df_columns = pd.DataFrame(df_imp_feat)\n",
    "#df_columns\n",
    "a = df_imp_feat.keys()\n",
    "SelectedFeatures = a.tolist()\n",
    "SelectedFeatures\n"
   ]
  },
  {
   "cell_type": "code",
   "execution_count": 16,
   "metadata": {},
   "outputs": [
    {
     "data": {
      "image/png": "[encoded data removed]",
      "text/plain": [
       "<Figure size 432x288 with 1 Axes>"
      ]
     },
     "metadata": {
      "needs_background": "light"
     },
     "output_type": "display_data"
    },
    {
     "name": "stdout",
     "output_type": "stream",
     "text": [
      "ComputerSkills2    0.075893\n",
      "AccountingMarks    0.067436\n",
      "BankingSkills2     0.064716\n",
      "MedicalSkills2     0.062704\n",
      "MathsMarks         0.062469\n",
      "ComputerMarks      0.059866\n",
      "PhysicsMarks       0.058092\n",
      "BankingSkills      0.057304\n",
      "ComputerSkills     0.057153\n",
      "ChemistryMarks     0.055833\n",
      "PoliticsSkills     0.051296\n",
      "BiologyMarks       0.049697\n",
      "dtype: float64\n"
     ]
    }
   ],
   "source": [
    "# plot 12 most important features\n",
    "# feat_importances.nlargest(12).plot(kind='barh')\n",
    "df_imp_feat.plot(kind='barh')\n",
    "plt.show()\n",
    "print(df_imp_feat)"
   ]
  },
  {
   "cell_type": "code",
   "execution_count": 17,
   "metadata": {},
   "outputs": [],
   "source": [
    "#2nd FEATURE EXTRACTION METHOD:\n",
    "\n",
    "# instantiate SelectKBest to determine 12 best features\n",
    "best_features = SelectKBest(score_func=f_classif, k=10)\n",
    "fit = best_features.fit(X,y)\n"
   ]
  },
  {
   "cell_type": "code",
   "execution_count": 18,
   "metadata": {},
   "outputs": [],
   "source": [
    "df_scores = pd.DataFrame(fit.scores_)\n",
    "df_columns = pd.DataFrame(X.columns)\n"
   ]
  },
  {
   "cell_type": "code",
   "execution_count": 19,
   "metadata": {},
   "outputs": [
    {
     "data": {
      "text/html": [
       "<div>\n",
       "<style scoped>\n",
       "    .dataframe tbody tr th:only-of-type {\n",
       "        vertical-align: middle;\n",
       "    }\n",
       "\n",
       "    .dataframe tbody tr th {\n",
       "        vertical-align: top;\n",
       "    }\n",
       "\n",
       "    .dataframe thead th {\n",
       "        text-align: right;\n",
       "    }\n",
       "</style>\n",
       "<table border=\"1\" class=\"dataframe\">\n",
       "  <thead>\n",
       "    <tr style=\"text-align: right;\">\n",
       "      <th></th>\n",
       "      <th>Feature_Name</th>\n",
       "      <th>Score</th>\n",
       "    </tr>\n",
       "  </thead>\n",
       "  <tbody>\n",
       "    <tr>\n",
       "      <th>0</th>\n",
       "      <td>PercentageHighSchool</td>\n",
       "      <td>3.043389</td>\n",
       "    </tr>\n",
       "    <tr>\n",
       "      <th>1</th>\n",
       "      <td>EnglishMarks</td>\n",
       "      <td>1.833406</td>\n",
       "    </tr>\n",
       "    <tr>\n",
       "      <th>2</th>\n",
       "      <td>MathsMarks</td>\n",
       "      <td>5.969532</td>\n",
       "    </tr>\n",
       "    <tr>\n",
       "      <th>3</th>\n",
       "      <td>PhysicsMarks</td>\n",
       "      <td>8.843998</td>\n",
       "    </tr>\n",
       "    <tr>\n",
       "      <th>4</th>\n",
       "      <td>ChemistryMarks</td>\n",
       "      <td>5.710792</td>\n",
       "    </tr>\n",
       "    <tr>\n",
       "      <th>5</th>\n",
       "      <td>BiologyMarks</td>\n",
       "      <td>5.466573</td>\n",
       "    </tr>\n",
       "    <tr>\n",
       "      <th>6</th>\n",
       "      <td>AccountingMarks</td>\n",
       "      <td>3.820635</td>\n",
       "    </tr>\n",
       "    <tr>\n",
       "      <th>7</th>\n",
       "      <td>ComputerMarks</td>\n",
       "      <td>6.373419</td>\n",
       "    </tr>\n",
       "    <tr>\n",
       "      <th>8</th>\n",
       "      <td>ComputerSkills</td>\n",
       "      <td>3.755866</td>\n",
       "    </tr>\n",
       "    <tr>\n",
       "      <th>9</th>\n",
       "      <td>ArtsSkills</td>\n",
       "      <td>1.302640</td>\n",
       "    </tr>\n",
       "    <tr>\n",
       "      <th>10</th>\n",
       "      <td>PsychologySkills</td>\n",
       "      <td>1.312377</td>\n",
       "    </tr>\n",
       "    <tr>\n",
       "      <th>11</th>\n",
       "      <td>MedicalSkills</td>\n",
       "      <td>2.165709</td>\n",
       "    </tr>\n",
       "    <tr>\n",
       "      <th>12</th>\n",
       "      <td>PoliticsSkills</td>\n",
       "      <td>3.226971</td>\n",
       "    </tr>\n",
       "    <tr>\n",
       "      <th>13</th>\n",
       "      <td>MedicalSkills2</td>\n",
       "      <td>4.336064</td>\n",
       "    </tr>\n",
       "    <tr>\n",
       "      <th>14</th>\n",
       "      <td>LawSkills</td>\n",
       "      <td>2.335760</td>\n",
       "    </tr>\n",
       "    <tr>\n",
       "      <th>15</th>\n",
       "      <td>ComputerSkills2</td>\n",
       "      <td>2.800907</td>\n",
       "    </tr>\n",
       "    <tr>\n",
       "      <th>16</th>\n",
       "      <td>BankingSkills</td>\n",
       "      <td>2.844440</td>\n",
       "    </tr>\n",
       "    <tr>\n",
       "      <th>17</th>\n",
       "      <td>BankingSkills2</td>\n",
       "      <td>6.877274</td>\n",
       "    </tr>\n",
       "    <tr>\n",
       "      <th>18</th>\n",
       "      <td>CGPA</td>\n",
       "      <td>2.086826</td>\n",
       "    </tr>\n",
       "  </tbody>\n",
       "</table>\n",
       "</div>"
      ],
      "text/plain": [
       "            Feature_Name     Score\n",
       "0   PercentageHighSchool  3.043389\n",
       "1           EnglishMarks  1.833406\n",
       "2             MathsMarks  5.969532\n",
       "3           PhysicsMarks  8.843998\n",
       "4         ChemistryMarks  5.710792\n",
       "5           BiologyMarks  5.466573\n",
       "6        AccountingMarks  3.820635\n",
       "7          ComputerMarks  6.373419\n",
       "8         ComputerSkills  3.755866\n",
       "9             ArtsSkills  1.302640\n",
       "10      PsychologySkills  1.312377\n",
       "11         MedicalSkills  2.165709\n",
       "12        PoliticsSkills  3.226971\n",
       "13        MedicalSkills2  4.336064\n",
       "14             LawSkills  2.335760\n",
       "15       ComputerSkills2  2.800907\n",
       "16         BankingSkills  2.844440\n",
       "17        BankingSkills2  6.877274\n",
       "18                  CGPA  2.086826"
      ]
     },
     "execution_count": 19,
     "metadata": {},
     "output_type": "execute_result"
    }
   ],
   "source": [
    "# concatenate dataframes\n",
    "feature_scores = pd.concat([df_columns, df_scores],axis=1)\n",
    "\n",
    "feature_scores.columns = ['Feature_Name','Score']  # name output columns\n",
    "feature_scores\n"
   ]
  },
  {
   "cell_type": "code",
   "execution_count": 20,
   "metadata": {},
   "outputs": [
    {
     "name": "stdout",
     "output_type": "stream",
     "text": [
      "       Feature_Name     Score\n",
      "3      PhysicsMarks  8.843998\n",
      "17   BankingSkills2  6.877274\n",
      "7     ComputerMarks  6.373419\n",
      "2        MathsMarks  5.969532\n",
      "4    ChemistryMarks  5.710792\n",
      "5      BiologyMarks  5.466573\n",
      "13   MedicalSkills2  4.336064\n",
      "6   AccountingMarks  3.820635\n",
      "8    ComputerSkills  3.755866\n",
      "12   PoliticsSkills  3.226971\n"
     ]
    }
   ],
   "source": [
    "print(feature_scores.nlargest(10,'Score'))  # print 10 best features\n"
   ]
  },
  {
   "cell_type": "code",
   "execution_count": 21,
   "metadata": {},
   "outputs": [
    {
     "data": {
      "text/plain": [
       "['PhysicsMarks',\n",
       " 'BankingSkills2',\n",
       " 'ComputerMarks',\n",
       " 'MathsMarks',\n",
       " 'ChemistryMarks',\n",
       " 'BiologyMarks',\n",
       " 'MedicalSkills2',\n",
       " 'AccountingMarks',\n",
       " 'ComputerSkills',\n",
       " 'PoliticsSkills']"
      ]
     },
     "execution_count": 21,
     "metadata": {},
     "output_type": "execute_result"
    }
   ],
   "source": [
    "# export selected features to .csv\n",
    "df_univ_feat = feature_scores.nlargest(10,'Score')\n",
    "SelectedColumns = df_univ_feat[\"Feature_Name\"].values.tolist()\n",
    "SelectedColumns\n"
   ]
  },
  {
   "cell_type": "code",
   "execution_count": 22,
   "metadata": {},
   "outputs": [
    {
     "data": {
      "text/html": [
       "<div>\n",
       "<style scoped>\n",
       "    .dataframe tbody tr th:only-of-type {\n",
       "        vertical-align: middle;\n",
       "    }\n",
       "\n",
       "    .dataframe tbody tr th {\n",
       "        vertical-align: top;\n",
       "    }\n",
       "\n",
       "    .dataframe thead th {\n",
       "        text-align: right;\n",
       "    }\n",
       "</style>\n",
       "<table border=\"1\" class=\"dataframe\">\n",
       "  <thead>\n",
       "    <tr style=\"text-align: right;\">\n",
       "      <th></th>\n",
       "      <th>PercentageHighSchool</th>\n",
       "      <th>EnglishMarks</th>\n",
       "      <th>MathsMarks</th>\n",
       "      <th>PhysicsMarks</th>\n",
       "      <th>ChemistryMarks</th>\n",
       "      <th>BiologyMarks</th>\n",
       "      <th>AccountingMarks</th>\n",
       "      <th>ComputerMarks</th>\n",
       "      <th>ComputerSkills</th>\n",
       "      <th>ArtsSkills</th>\n",
       "      <th>PsychologySkills</th>\n",
       "      <th>MedicalSkills</th>\n",
       "      <th>PoliticsSkills</th>\n",
       "      <th>MedicalSkills2</th>\n",
       "      <th>LawSkills</th>\n",
       "      <th>ComputerSkills2</th>\n",
       "      <th>BankingSkills</th>\n",
       "      <th>BankingSkills2</th>\n",
       "      <th>CGPA</th>\n",
       "      <th>UniversityDepartment</th>\n",
       "    </tr>\n",
       "  </thead>\n",
       "  <tbody>\n",
       "    <tr>\n",
       "      <th>0</th>\n",
       "      <td>3.0</td>\n",
       "      <td>3.0</td>\n",
       "      <td>3.0</td>\n",
       "      <td>3.0</td>\n",
       "      <td>3.0</td>\n",
       "      <td>NaN</td>\n",
       "      <td>NaN</td>\n",
       "      <td>5.0</td>\n",
       "      <td>3.0</td>\n",
       "      <td>1.0</td>\n",
       "      <td>1.0</td>\n",
       "      <td>1.0</td>\n",
       "      <td>1.0</td>\n",
       "      <td>2.0</td>\n",
       "      <td>3.0</td>\n",
       "      <td>1.0</td>\n",
       "      <td>1.0</td>\n",
       "      <td>1.0</td>\n",
       "      <td>2.0</td>\n",
       "      <td>1.0</td>\n",
       "    </tr>\n",
       "    <tr>\n",
       "      <th>1</th>\n",
       "      <td>5.0</td>\n",
       "      <td>5.0</td>\n",
       "      <td>5.0</td>\n",
       "      <td>5.0</td>\n",
       "      <td>5.0</td>\n",
       "      <td>5.0</td>\n",
       "      <td>NaN</td>\n",
       "      <td>NaN</td>\n",
       "      <td>4.0</td>\n",
       "      <td>2.0</td>\n",
       "      <td>5.0</td>\n",
       "      <td>5.0</td>\n",
       "      <td>4.0</td>\n",
       "      <td>4.0</td>\n",
       "      <td>4.0</td>\n",
       "      <td>2.0</td>\n",
       "      <td>3.0</td>\n",
       "      <td>4.0</td>\n",
       "      <td>2.0</td>\n",
       "      <td>1.0</td>\n",
       "    </tr>\n",
       "    <tr>\n",
       "      <th>2</th>\n",
       "      <td>5.0</td>\n",
       "      <td>5.0</td>\n",
       "      <td>5.0</td>\n",
       "      <td>5.0</td>\n",
       "      <td>5.0</td>\n",
       "      <td>5.0</td>\n",
       "      <td>NaN</td>\n",
       "      <td>NaN</td>\n",
       "      <td>4.0</td>\n",
       "      <td>2.0</td>\n",
       "      <td>5.0</td>\n",
       "      <td>5.0</td>\n",
       "      <td>4.0</td>\n",
       "      <td>4.0</td>\n",
       "      <td>4.0</td>\n",
       "      <td>2.0</td>\n",
       "      <td>3.0</td>\n",
       "      <td>4.0</td>\n",
       "      <td>2.0</td>\n",
       "      <td>1.0</td>\n",
       "    </tr>\n",
       "    <tr>\n",
       "      <th>3</th>\n",
       "      <td>5.0</td>\n",
       "      <td>5.0</td>\n",
       "      <td>5.0</td>\n",
       "      <td>5.0</td>\n",
       "      <td>5.0</td>\n",
       "      <td>5.0</td>\n",
       "      <td>NaN</td>\n",
       "      <td>NaN</td>\n",
       "      <td>4.0</td>\n",
       "      <td>2.0</td>\n",
       "      <td>5.0</td>\n",
       "      <td>5.0</td>\n",
       "      <td>4.0</td>\n",
       "      <td>4.0</td>\n",
       "      <td>4.0</td>\n",
       "      <td>2.0</td>\n",
       "      <td>3.0</td>\n",
       "      <td>4.0</td>\n",
       "      <td>2.0</td>\n",
       "      <td>1.0</td>\n",
       "    </tr>\n",
       "    <tr>\n",
       "      <th>4</th>\n",
       "      <td>5.0</td>\n",
       "      <td>5.0</td>\n",
       "      <td>5.0</td>\n",
       "      <td>5.0</td>\n",
       "      <td>5.0</td>\n",
       "      <td>5.0</td>\n",
       "      <td>NaN</td>\n",
       "      <td>NaN</td>\n",
       "      <td>4.0</td>\n",
       "      <td>2.0</td>\n",
       "      <td>5.0</td>\n",
       "      <td>5.0</td>\n",
       "      <td>4.0</td>\n",
       "      <td>4.0</td>\n",
       "      <td>4.0</td>\n",
       "      <td>2.0</td>\n",
       "      <td>3.0</td>\n",
       "      <td>4.0</td>\n",
       "      <td>2.0</td>\n",
       "      <td>1.0</td>\n",
       "    </tr>\n",
       "    <tr>\n",
       "      <th>...</th>\n",
       "      <td>...</td>\n",
       "      <td>...</td>\n",
       "      <td>...</td>\n",
       "      <td>...</td>\n",
       "      <td>...</td>\n",
       "      <td>...</td>\n",
       "      <td>...</td>\n",
       "      <td>...</td>\n",
       "      <td>...</td>\n",
       "      <td>...</td>\n",
       "      <td>...</td>\n",
       "      <td>...</td>\n",
       "      <td>...</td>\n",
       "      <td>...</td>\n",
       "      <td>...</td>\n",
       "      <td>...</td>\n",
       "      <td>...</td>\n",
       "      <td>...</td>\n",
       "      <td>...</td>\n",
       "      <td>...</td>\n",
       "    </tr>\n",
       "    <tr>\n",
       "      <th>145</th>\n",
       "      <td>2.0</td>\n",
       "      <td>2.0</td>\n",
       "      <td>1.0</td>\n",
       "      <td>1.0</td>\n",
       "      <td>1.0</td>\n",
       "      <td>1.0</td>\n",
       "      <td>2.0</td>\n",
       "      <td>4.0</td>\n",
       "      <td>5.0</td>\n",
       "      <td>1.0</td>\n",
       "      <td>5.0</td>\n",
       "      <td>4.0</td>\n",
       "      <td>5.0</td>\n",
       "      <td>2.0</td>\n",
       "      <td>3.0</td>\n",
       "      <td>1.0</td>\n",
       "      <td>2.0</td>\n",
       "      <td>4.0</td>\n",
       "      <td>3.0</td>\n",
       "      <td>6.0</td>\n",
       "    </tr>\n",
       "    <tr>\n",
       "      <th>146</th>\n",
       "      <td>3.0</td>\n",
       "      <td>3.0</td>\n",
       "      <td>5.0</td>\n",
       "      <td>3.0</td>\n",
       "      <td>1.0</td>\n",
       "      <td>3.0</td>\n",
       "      <td>5.0</td>\n",
       "      <td>4.0</td>\n",
       "      <td>5.0</td>\n",
       "      <td>1.0</td>\n",
       "      <td>5.0</td>\n",
       "      <td>4.0</td>\n",
       "      <td>5.0</td>\n",
       "      <td>3.0</td>\n",
       "      <td>4.0</td>\n",
       "      <td>1.0</td>\n",
       "      <td>4.0</td>\n",
       "      <td>4.0</td>\n",
       "      <td>5.0</td>\n",
       "      <td>6.0</td>\n",
       "    </tr>\n",
       "    <tr>\n",
       "      <th>147</th>\n",
       "      <td>3.0</td>\n",
       "      <td>4.0</td>\n",
       "      <td>5.0</td>\n",
       "      <td>5.0</td>\n",
       "      <td>3.0</td>\n",
       "      <td>4.0</td>\n",
       "      <td>4.0</td>\n",
       "      <td>4.0</td>\n",
       "      <td>1.0</td>\n",
       "      <td>5.0</td>\n",
       "      <td>5.0</td>\n",
       "      <td>5.0</td>\n",
       "      <td>2.0</td>\n",
       "      <td>2.0</td>\n",
       "      <td>3.0</td>\n",
       "      <td>5.0</td>\n",
       "      <td>2.0</td>\n",
       "      <td>2.0</td>\n",
       "      <td>4.0</td>\n",
       "      <td>3.0</td>\n",
       "    </tr>\n",
       "    <tr>\n",
       "      <th>148</th>\n",
       "      <td>1.0</td>\n",
       "      <td>1.0</td>\n",
       "      <td>1.0</td>\n",
       "      <td>1.0</td>\n",
       "      <td>1.0</td>\n",
       "      <td>1.0</td>\n",
       "      <td>1.0</td>\n",
       "      <td>1.0</td>\n",
       "      <td>1.0</td>\n",
       "      <td>1.0</td>\n",
       "      <td>1.0</td>\n",
       "      <td>1.0</td>\n",
       "      <td>1.0</td>\n",
       "      <td>1.0</td>\n",
       "      <td>1.0</td>\n",
       "      <td>1.0</td>\n",
       "      <td>1.0</td>\n",
       "      <td>1.0</td>\n",
       "      <td>4.0</td>\n",
       "      <td>7.0</td>\n",
       "    </tr>\n",
       "    <tr>\n",
       "      <th>149</th>\n",
       "      <td>4.0</td>\n",
       "      <td>5.0</td>\n",
       "      <td>4.0</td>\n",
       "      <td>4.0</td>\n",
       "      <td>4.0</td>\n",
       "      <td>4.0</td>\n",
       "      <td>4.0</td>\n",
       "      <td>4.0</td>\n",
       "      <td>1.0</td>\n",
       "      <td>1.0</td>\n",
       "      <td>1.0</td>\n",
       "      <td>1.0</td>\n",
       "      <td>1.0</td>\n",
       "      <td>1.0</td>\n",
       "      <td>1.0</td>\n",
       "      <td>1.0</td>\n",
       "      <td>1.0</td>\n",
       "      <td>1.0</td>\n",
       "      <td>4.0</td>\n",
       "      <td>7.0</td>\n",
       "    </tr>\n",
       "  </tbody>\n",
       "</table>\n",
       "<p>150 rows × 20 columns</p>\n",
       "</div>"
      ],
      "text/plain": [
       "     PercentageHighSchool  EnglishMarks  MathsMarks  PhysicsMarks  \\\n",
       "0                     3.0           3.0         3.0           3.0   \n",
       "1                     5.0           5.0         5.0           5.0   \n",
       "2                     5.0           5.0         5.0           5.0   \n",
       "3                     5.0           5.0         5.0           5.0   \n",
       "4                     5.0           5.0         5.0           5.0   \n",
       "..                    ...           ...         ...           ...   \n",
       "145                   2.0           2.0         1.0           1.0   \n",
       "146                   3.0           3.0         5.0           3.0   \n",
       "147                   3.0           4.0         5.0           5.0   \n",
       "148                   1.0           1.0         1.0           1.0   \n",
       "149                   4.0           5.0         4.0           4.0   \n",
       "\n",
       "     ChemistryMarks  BiologyMarks  AccountingMarks  ComputerMarks  \\\n",
       "0               3.0           NaN              NaN            5.0   \n",
       "1               5.0           5.0              NaN            NaN   \n",
       "2               5.0           5.0              NaN            NaN   \n",
       "3               5.0           5.0              NaN            NaN   \n",
       "4               5.0           5.0              NaN            NaN   \n",
       "..              ...           ...              ...            ...   \n",
       "145             1.0           1.0              2.0            4.0   \n",
       "146             1.0           3.0              5.0            4.0   \n",
       "147             3.0           4.0              4.0            4.0   \n",
       "148             1.0           1.0              1.0            1.0   \n",
       "149             4.0           4.0              4.0            4.0   \n",
       "\n",
       "     ComputerSkills  ArtsSkills  PsychologySkills  MedicalSkills  \\\n",
       "0               3.0         1.0               1.0            1.0   \n",
       "1               4.0         2.0               5.0            5.0   \n",
       "2               4.0         2.0               5.0            5.0   \n",
       "3               4.0         2.0               5.0            5.0   \n",
       "4               4.0         2.0               5.0            5.0   \n",
       "..              ...         ...               ...            ...   \n",
       "145             5.0         1.0               5.0            4.0   \n",
       "146             5.0         1.0               5.0            4.0   \n",
       "147             1.0         5.0               5.0            5.0   \n",
       "148             1.0         1.0               1.0            1.0   \n",
       "149             1.0         1.0               1.0            1.0   \n",
       "\n",
       "     PoliticsSkills  MedicalSkills2  LawSkills  ComputerSkills2  \\\n",
       "0               1.0             2.0        3.0              1.0   \n",
       "1               4.0             4.0        4.0              2.0   \n",
       "2               4.0             4.0        4.0              2.0   \n",
       "3               4.0             4.0        4.0              2.0   \n",
       "4               4.0             4.0        4.0              2.0   \n",
       "..              ...             ...        ...              ...   \n",
       "145             5.0             2.0        3.0              1.0   \n",
       "146             5.0             3.0        4.0              1.0   \n",
       "147             2.0             2.0        3.0              5.0   \n",
       "148             1.0             1.0        1.0              1.0   \n",
       "149             1.0             1.0        1.0              1.0   \n",
       "\n",
       "     BankingSkills  BankingSkills2  CGPA  UniversityDepartment  \n",
       "0              1.0             1.0   2.0                   1.0  \n",
       "1              3.0             4.0   2.0                   1.0  \n",
       "2              3.0             4.0   2.0                   1.0  \n",
       "3              3.0             4.0   2.0                   1.0  \n",
       "4              3.0             4.0   2.0                   1.0  \n",
       "..             ...             ...   ...                   ...  \n",
       "145            2.0             4.0   3.0                   6.0  \n",
       "146            4.0             4.0   5.0                   6.0  \n",
       "147            2.0             2.0   4.0                   3.0  \n",
       "148            1.0             1.0   4.0                   7.0  \n",
       "149            1.0             1.0   4.0                   7.0  \n",
       "\n",
       "[150 rows x 20 columns]"
      ]
     },
     "execution_count": 22,
     "metadata": {},
     "output_type": "execute_result"
    }
   ],
   "source": [
    "df2\n"
   ]
  },
  {
   "cell_type": "code",
   "execution_count": null,
   "metadata": {},
   "outputs": [],
   "source": []
  },
  {
   "cell_type": "code",
   "execution_count": null,
   "metadata": {},
   "outputs": [],
   "source": []
  },
  {
   "cell_type": "code",
   "execution_count": 23,
   "metadata": {},
   "outputs": [
    {
     "data": {
      "text/plain": [
       "EnglishMarks        2\n",
       "PhysicsMarks        4\n",
       "ChemistryMarks      6\n",
       "BiologyMarks       31\n",
       "AccountingMarks    23\n",
       "ComputerMarks      19\n",
       "dtype: int64"
      ]
     },
     "execution_count": 23,
     "metadata": {},
     "output_type": "execute_result"
    }
   ],
   "source": [
    "null_columns=df2.columns[df2.isnull().any()]\n",
    "df2[null_columns].isnull().sum()"
   ]
  },
  {
   "cell_type": "code",
   "execution_count": 24,
   "metadata": {},
   "outputs": [
    {
     "data": {
      "text/html": [
       "<div>\n",
       "<style scoped>\n",
       "    .dataframe tbody tr th:only-of-type {\n",
       "        vertical-align: middle;\n",
       "    }\n",
       "\n",
       "    .dataframe tbody tr th {\n",
       "        vertical-align: top;\n",
       "    }\n",
       "\n",
       "    .dataframe thead th {\n",
       "        text-align: right;\n",
       "    }\n",
       "</style>\n",
       "<table border=\"1\" class=\"dataframe\">\n",
       "  <thead>\n",
       "    <tr style=\"text-align: right;\">\n",
       "      <th></th>\n",
       "      <th>PercentageHighSchool</th>\n",
       "      <th>EnglishMarks</th>\n",
       "      <th>MathsMarks</th>\n",
       "      <th>PhysicsMarks</th>\n",
       "      <th>ChemistryMarks</th>\n",
       "      <th>BiologyMarks</th>\n",
       "      <th>AccountingMarks</th>\n",
       "      <th>ComputerMarks</th>\n",
       "      <th>ComputerSkills</th>\n",
       "      <th>ArtsSkills</th>\n",
       "      <th>PsychologySkills</th>\n",
       "      <th>MedicalSkills</th>\n",
       "      <th>PoliticsSkills</th>\n",
       "      <th>MedicalSkills2</th>\n",
       "      <th>LawSkills</th>\n",
       "      <th>ComputerSkills2</th>\n",
       "      <th>BankingSkills</th>\n",
       "      <th>BankingSkills2</th>\n",
       "      <th>CGPA</th>\n",
       "      <th>UniversityDepartment</th>\n",
       "    </tr>\n",
       "  </thead>\n",
       "  <tbody>\n",
       "    <tr>\n",
       "      <th>0</th>\n",
       "      <td>3.0</td>\n",
       "      <td>3.0</td>\n",
       "      <td>3.0</td>\n",
       "      <td>3.0</td>\n",
       "      <td>3.0</td>\n",
       "      <td>0.0</td>\n",
       "      <td>0.0</td>\n",
       "      <td>5.0</td>\n",
       "      <td>3.0</td>\n",
       "      <td>1.0</td>\n",
       "      <td>1.0</td>\n",
       "      <td>1.0</td>\n",
       "      <td>1.0</td>\n",
       "      <td>2.0</td>\n",
       "      <td>3.0</td>\n",
       "      <td>1.0</td>\n",
       "      <td>1.0</td>\n",
       "      <td>1.0</td>\n",
       "      <td>2.0</td>\n",
       "      <td>1.0</td>\n",
       "    </tr>\n",
       "    <tr>\n",
       "      <th>1</th>\n",
       "      <td>5.0</td>\n",
       "      <td>5.0</td>\n",
       "      <td>5.0</td>\n",
       "      <td>5.0</td>\n",
       "      <td>5.0</td>\n",
       "      <td>5.0</td>\n",
       "      <td>0.0</td>\n",
       "      <td>0.0</td>\n",
       "      <td>4.0</td>\n",
       "      <td>2.0</td>\n",
       "      <td>5.0</td>\n",
       "      <td>5.0</td>\n",
       "      <td>4.0</td>\n",
       "      <td>4.0</td>\n",
       "      <td>4.0</td>\n",
       "      <td>2.0</td>\n",
       "      <td>3.0</td>\n",
       "      <td>4.0</td>\n",
       "      <td>2.0</td>\n",
       "      <td>1.0</td>\n",
       "    </tr>\n",
       "    <tr>\n",
       "      <th>2</th>\n",
       "      <td>5.0</td>\n",
       "      <td>5.0</td>\n",
       "      <td>5.0</td>\n",
       "      <td>5.0</td>\n",
       "      <td>5.0</td>\n",
       "      <td>5.0</td>\n",
       "      <td>0.0</td>\n",
       "      <td>0.0</td>\n",
       "      <td>4.0</td>\n",
       "      <td>2.0</td>\n",
       "      <td>5.0</td>\n",
       "      <td>5.0</td>\n",
       "      <td>4.0</td>\n",
       "      <td>4.0</td>\n",
       "      <td>4.0</td>\n",
       "      <td>2.0</td>\n",
       "      <td>3.0</td>\n",
       "      <td>4.0</td>\n",
       "      <td>2.0</td>\n",
       "      <td>1.0</td>\n",
       "    </tr>\n",
       "    <tr>\n",
       "      <th>3</th>\n",
       "      <td>5.0</td>\n",
       "      <td>5.0</td>\n",
       "      <td>5.0</td>\n",
       "      <td>5.0</td>\n",
       "      <td>5.0</td>\n",
       "      <td>5.0</td>\n",
       "      <td>0.0</td>\n",
       "      <td>0.0</td>\n",
       "      <td>4.0</td>\n",
       "      <td>2.0</td>\n",
       "      <td>5.0</td>\n",
       "      <td>5.0</td>\n",
       "      <td>4.0</td>\n",
       "      <td>4.0</td>\n",
       "      <td>4.0</td>\n",
       "      <td>2.0</td>\n",
       "      <td>3.0</td>\n",
       "      <td>4.0</td>\n",
       "      <td>2.0</td>\n",
       "      <td>1.0</td>\n",
       "    </tr>\n",
       "    <tr>\n",
       "      <th>4</th>\n",
       "      <td>5.0</td>\n",
       "      <td>5.0</td>\n",
       "      <td>5.0</td>\n",
       "      <td>5.0</td>\n",
       "      <td>5.0</td>\n",
       "      <td>5.0</td>\n",
       "      <td>0.0</td>\n",
       "      <td>0.0</td>\n",
       "      <td>4.0</td>\n",
       "      <td>2.0</td>\n",
       "      <td>5.0</td>\n",
       "      <td>5.0</td>\n",
       "      <td>4.0</td>\n",
       "      <td>4.0</td>\n",
       "      <td>4.0</td>\n",
       "      <td>2.0</td>\n",
       "      <td>3.0</td>\n",
       "      <td>4.0</td>\n",
       "      <td>2.0</td>\n",
       "      <td>1.0</td>\n",
       "    </tr>\n",
       "    <tr>\n",
       "      <th>...</th>\n",
       "      <td>...</td>\n",
       "      <td>...</td>\n",
       "      <td>...</td>\n",
       "      <td>...</td>\n",
       "      <td>...</td>\n",
       "      <td>...</td>\n",
       "      <td>...</td>\n",
       "      <td>...</td>\n",
       "      <td>...</td>\n",
       "      <td>...</td>\n",
       "      <td>...</td>\n",
       "      <td>...</td>\n",
       "      <td>...</td>\n",
       "      <td>...</td>\n",
       "      <td>...</td>\n",
       "      <td>...</td>\n",
       "      <td>...</td>\n",
       "      <td>...</td>\n",
       "      <td>...</td>\n",
       "      <td>...</td>\n",
       "    </tr>\n",
       "    <tr>\n",
       "      <th>145</th>\n",
       "      <td>2.0</td>\n",
       "      <td>2.0</td>\n",
       "      <td>1.0</td>\n",
       "      <td>1.0</td>\n",
       "      <td>1.0</td>\n",
       "      <td>1.0</td>\n",
       "      <td>2.0</td>\n",
       "      <td>4.0</td>\n",
       "      <td>5.0</td>\n",
       "      <td>1.0</td>\n",
       "      <td>5.0</td>\n",
       "      <td>4.0</td>\n",
       "      <td>5.0</td>\n",
       "      <td>2.0</td>\n",
       "      <td>3.0</td>\n",
       "      <td>1.0</td>\n",
       "      <td>2.0</td>\n",
       "      <td>4.0</td>\n",
       "      <td>3.0</td>\n",
       "      <td>6.0</td>\n",
       "    </tr>\n",
       "    <tr>\n",
       "      <th>146</th>\n",
       "      <td>3.0</td>\n",
       "      <td>3.0</td>\n",
       "      <td>5.0</td>\n",
       "      <td>3.0</td>\n",
       "      <td>1.0</td>\n",
       "      <td>3.0</td>\n",
       "      <td>5.0</td>\n",
       "      <td>4.0</td>\n",
       "      <td>5.0</td>\n",
       "      <td>1.0</td>\n",
       "      <td>5.0</td>\n",
       "      <td>4.0</td>\n",
       "      <td>5.0</td>\n",
       "      <td>3.0</td>\n",
       "      <td>4.0</td>\n",
       "      <td>1.0</td>\n",
       "      <td>4.0</td>\n",
       "      <td>4.0</td>\n",
       "      <td>5.0</td>\n",
       "      <td>6.0</td>\n",
       "    </tr>\n",
       "    <tr>\n",
       "      <th>147</th>\n",
       "      <td>3.0</td>\n",
       "      <td>4.0</td>\n",
       "      <td>5.0</td>\n",
       "      <td>5.0</td>\n",
       "      <td>3.0</td>\n",
       "      <td>4.0</td>\n",
       "      <td>4.0</td>\n",
       "      <td>4.0</td>\n",
       "      <td>1.0</td>\n",
       "      <td>5.0</td>\n",
       "      <td>5.0</td>\n",
       "      <td>5.0</td>\n",
       "      <td>2.0</td>\n",
       "      <td>2.0</td>\n",
       "      <td>3.0</td>\n",
       "      <td>5.0</td>\n",
       "      <td>2.0</td>\n",
       "      <td>2.0</td>\n",
       "      <td>4.0</td>\n",
       "      <td>3.0</td>\n",
       "    </tr>\n",
       "    <tr>\n",
       "      <th>148</th>\n",
       "      <td>1.0</td>\n",
       "      <td>1.0</td>\n",
       "      <td>1.0</td>\n",
       "      <td>1.0</td>\n",
       "      <td>1.0</td>\n",
       "      <td>1.0</td>\n",
       "      <td>1.0</td>\n",
       "      <td>1.0</td>\n",
       "      <td>1.0</td>\n",
       "      <td>1.0</td>\n",
       "      <td>1.0</td>\n",
       "      <td>1.0</td>\n",
       "      <td>1.0</td>\n",
       "      <td>1.0</td>\n",
       "      <td>1.0</td>\n",
       "      <td>1.0</td>\n",
       "      <td>1.0</td>\n",
       "      <td>1.0</td>\n",
       "      <td>4.0</td>\n",
       "      <td>7.0</td>\n",
       "    </tr>\n",
       "    <tr>\n",
       "      <th>149</th>\n",
       "      <td>4.0</td>\n",
       "      <td>5.0</td>\n",
       "      <td>4.0</td>\n",
       "      <td>4.0</td>\n",
       "      <td>4.0</td>\n",
       "      <td>4.0</td>\n",
       "      <td>4.0</td>\n",
       "      <td>4.0</td>\n",
       "      <td>1.0</td>\n",
       "      <td>1.0</td>\n",
       "      <td>1.0</td>\n",
       "      <td>1.0</td>\n",
       "      <td>1.0</td>\n",
       "      <td>1.0</td>\n",
       "      <td>1.0</td>\n",
       "      <td>1.0</td>\n",
       "      <td>1.0</td>\n",
       "      <td>1.0</td>\n",
       "      <td>4.0</td>\n",
       "      <td>7.0</td>\n",
       "    </tr>\n",
       "  </tbody>\n",
       "</table>\n",
       "<p>150 rows × 20 columns</p>\n",
       "</div>"
      ],
      "text/plain": [
       "     PercentageHighSchool  EnglishMarks  MathsMarks  PhysicsMarks  \\\n",
       "0                     3.0           3.0         3.0           3.0   \n",
       "1                     5.0           5.0         5.0           5.0   \n",
       "2                     5.0           5.0         5.0           5.0   \n",
       "3                     5.0           5.0         5.0           5.0   \n",
       "4                     5.0           5.0         5.0           5.0   \n",
       "..                    ...           ...         ...           ...   \n",
       "145                   2.0           2.0         1.0           1.0   \n",
       "146                   3.0           3.0         5.0           3.0   \n",
       "147                   3.0           4.0         5.0           5.0   \n",
       "148                   1.0           1.0         1.0           1.0   \n",
       "149                   4.0           5.0         4.0           4.0   \n",
       "\n",
       "     ChemistryMarks  BiologyMarks  AccountingMarks  ComputerMarks  \\\n",
       "0               3.0           0.0              0.0            5.0   \n",
       "1               5.0           5.0              0.0            0.0   \n",
       "2               5.0           5.0              0.0            0.0   \n",
       "3               5.0           5.0              0.0            0.0   \n",
       "4               5.0           5.0              0.0            0.0   \n",
       "..              ...           ...              ...            ...   \n",
       "145             1.0           1.0              2.0            4.0   \n",
       "146             1.0           3.0              5.0            4.0   \n",
       "147             3.0           4.0              4.0            4.0   \n",
       "148             1.0           1.0              1.0            1.0   \n",
       "149             4.0           4.0              4.0            4.0   \n",
       "\n",
       "     ComputerSkills  ArtsSkills  PsychologySkills  MedicalSkills  \\\n",
       "0               3.0         1.0               1.0            1.0   \n",
       "1               4.0         2.0               5.0            5.0   \n",
       "2               4.0         2.0               5.0            5.0   \n",
       "3               4.0         2.0               5.0            5.0   \n",
       "4               4.0         2.0               5.0            5.0   \n",
       "..              ...         ...               ...            ...   \n",
       "145             5.0         1.0               5.0            4.0   \n",
       "146             5.0         1.0               5.0            4.0   \n",
       "147             1.0         5.0               5.0            5.0   \n",
       "148             1.0         1.0               1.0            1.0   \n",
       "149             1.0         1.0               1.0            1.0   \n",
       "\n",
       "     PoliticsSkills  MedicalSkills2  LawSkills  ComputerSkills2  \\\n",
       "0               1.0             2.0        3.0              1.0   \n",
       "1               4.0             4.0        4.0              2.0   \n",
       "2               4.0             4.0        4.0              2.0   \n",
       "3               4.0             4.0        4.0              2.0   \n",
       "4               4.0             4.0        4.0              2.0   \n",
       "..              ...             ...        ...              ...   \n",
       "145             5.0             2.0        3.0              1.0   \n",
       "146             5.0             3.0        4.0              1.0   \n",
       "147             2.0             2.0        3.0              5.0   \n",
       "148             1.0             1.0        1.0              1.0   \n",
       "149             1.0             1.0        1.0              1.0   \n",
       "\n",
       "     BankingSkills  BankingSkills2  CGPA  UniversityDepartment  \n",
       "0              1.0             1.0   2.0                   1.0  \n",
       "1              3.0             4.0   2.0                   1.0  \n",
       "2              3.0             4.0   2.0                   1.0  \n",
       "3              3.0             4.0   2.0                   1.0  \n",
       "4              3.0             4.0   2.0                   1.0  \n",
       "..             ...             ...   ...                   ...  \n",
       "145            2.0             4.0   3.0                   6.0  \n",
       "146            4.0             4.0   5.0                   6.0  \n",
       "147            2.0             2.0   4.0                   3.0  \n",
       "148            1.0             1.0   4.0                   7.0  \n",
       "149            1.0             1.0   4.0                   7.0  \n",
       "\n",
       "[150 rows x 20 columns]"
      ]
     },
     "execution_count": 24,
     "metadata": {},
     "output_type": "execute_result"
    }
   ],
   "source": [
    "data=df2.apply (pd.to_numeric, errors='coerce')\n",
    "data=df2.fillna(0)\n",
    "\n",
    "df2.update(data)\n",
    "df2\n",
    "\n"
   ]
  },
  {
   "cell_type": "code",
   "execution_count": null,
   "metadata": {},
   "outputs": [],
   "source": []
  },
  {
   "cell_type": "code",
   "execution_count": 25,
   "metadata": {},
   "outputs": [
    {
     "data": {
      "text/plain": [
       "Series([], dtype: float64)"
      ]
     },
     "execution_count": 25,
     "metadata": {},
     "output_type": "execute_result"
    }
   ],
   "source": [
    "null_columns=df2.columns[df2.isnull().any()]\n",
    "df2[null_columns].isnull().sum()"
   ]
  },
  {
   "cell_type": "code",
   "execution_count": null,
   "metadata": {},
   "outputs": [],
   "source": []
  },
  {
   "cell_type": "code",
   "execution_count": null,
   "metadata": {},
   "outputs": [],
   "source": []
  },
  {
   "cell_type": "code",
   "execution_count": 26,
   "metadata": {},
   "outputs": [
    {
     "data": {
      "text/plain": [
       "[]"
      ]
     },
     "execution_count": 26,
     "metadata": {},
     "output_type": "execute_result"
    }
   ],
   "source": [
    "categorical_features=[feature for feature in df2.columns if df2[feature].dtype=='O']\n",
    "categorical_features"
   ]
  },
  {
   "cell_type": "code",
   "execution_count": 27,
   "metadata": {
    "scrolled": true
   },
   "outputs": [
    {
     "data": {
      "text/plain": [
       "['PercentageHighSchool',\n",
       " 'EnglishMarks',\n",
       " 'MathsMarks',\n",
       " 'PhysicsMarks',\n",
       " 'ChemistryMarks',\n",
       " 'BiologyMarks',\n",
       " 'AccountingMarks',\n",
       " 'ComputerMarks',\n",
       " 'ComputerSkills',\n",
       " 'ArtsSkills',\n",
       " 'PsychologySkills',\n",
       " 'MedicalSkills',\n",
       " 'PoliticsSkills',\n",
       " 'MedicalSkills2',\n",
       " 'LawSkills',\n",
       " 'ComputerSkills2',\n",
       " 'BankingSkills',\n",
       " 'BankingSkills2',\n",
       " 'CGPA',\n",
       " 'UniversityDepartment']"
      ]
     },
     "execution_count": 27,
     "metadata": {},
     "output_type": "execute_result"
    }
   ],
   "source": [
    "categorical_features2=df2.select_dtypes(include=np.number).columns.tolist()\n",
    "categorical_features2"
   ]
  },
  {
   "cell_type": "code",
   "execution_count": null,
   "metadata": {},
   "outputs": [],
   "source": []
  },
  {
   "cell_type": "code",
   "execution_count": 28,
   "metadata": {},
   "outputs": [
    {
     "data": {
      "text/html": [
       "<div>\n",
       "<style scoped>\n",
       "    .dataframe tbody tr th:only-of-type {\n",
       "        vertical-align: middle;\n",
       "    }\n",
       "\n",
       "    .dataframe tbody tr th {\n",
       "        vertical-align: top;\n",
       "    }\n",
       "\n",
       "    .dataframe thead th {\n",
       "        text-align: right;\n",
       "    }\n",
       "</style>\n",
       "<table border=\"1\" class=\"dataframe\">\n",
       "  <thead>\n",
       "    <tr style=\"text-align: right;\">\n",
       "      <th></th>\n",
       "      <th>PercentageHighSchool</th>\n",
       "      <th>EnglishMarks</th>\n",
       "      <th>MathsMarks</th>\n",
       "      <th>PhysicsMarks</th>\n",
       "      <th>ChemistryMarks</th>\n",
       "      <th>BiologyMarks</th>\n",
       "      <th>AccountingMarks</th>\n",
       "      <th>ComputerMarks</th>\n",
       "      <th>ComputerSkills</th>\n",
       "      <th>ArtsSkills</th>\n",
       "      <th>PsychologySkills</th>\n",
       "      <th>MedicalSkills</th>\n",
       "      <th>PoliticsSkills</th>\n",
       "      <th>MedicalSkills2</th>\n",
       "      <th>LawSkills</th>\n",
       "      <th>ComputerSkills2</th>\n",
       "      <th>BankingSkills</th>\n",
       "      <th>BankingSkills2</th>\n",
       "      <th>CGPA</th>\n",
       "      <th>UniversityDepartment</th>\n",
       "    </tr>\n",
       "  </thead>\n",
       "  <tbody>\n",
       "    <tr>\n",
       "      <th>count</th>\n",
       "      <td>150.000000</td>\n",
       "      <td>150.000000</td>\n",
       "      <td>150.000000</td>\n",
       "      <td>150.000000</td>\n",
       "      <td>150.000000</td>\n",
       "      <td>150.000000</td>\n",
       "      <td>150.000000</td>\n",
       "      <td>150.000000</td>\n",
       "      <td>150.000000</td>\n",
       "      <td>150.000000</td>\n",
       "      <td>150.000000</td>\n",
       "      <td>150.000000</td>\n",
       "      <td>150.000000</td>\n",
       "      <td>150.000000</td>\n",
       "      <td>150.000000</td>\n",
       "      <td>150.000000</td>\n",
       "      <td>150.000000</td>\n",
       "      <td>150.000000</td>\n",
       "      <td>150.000000</td>\n",
       "      <td>150.000000</td>\n",
       "    </tr>\n",
       "    <tr>\n",
       "      <th>mean</th>\n",
       "      <td>3.273333</td>\n",
       "      <td>3.440000</td>\n",
       "      <td>3.480000</td>\n",
       "      <td>3.220000</td>\n",
       "      <td>2.920000</td>\n",
       "      <td>2.513333</td>\n",
       "      <td>2.726667</td>\n",
       "      <td>3.146667</td>\n",
       "      <td>4.080000</td>\n",
       "      <td>2.993333</td>\n",
       "      <td>4.140000</td>\n",
       "      <td>3.626667</td>\n",
       "      <td>3.173333</td>\n",
       "      <td>2.793333</td>\n",
       "      <td>2.840000</td>\n",
       "      <td>2.906667</td>\n",
       "      <td>3.053333</td>\n",
       "      <td>3.606667</td>\n",
       "      <td>3.933333</td>\n",
       "      <td>3.266667</td>\n",
       "    </tr>\n",
       "    <tr>\n",
       "      <th>std</th>\n",
       "      <td>1.140450</td>\n",
       "      <td>1.217766</td>\n",
       "      <td>1.364556</td>\n",
       "      <td>1.304972</td>\n",
       "      <td>1.397601</td>\n",
       "      <td>1.782603</td>\n",
       "      <td>1.596543</td>\n",
       "      <td>1.635950</td>\n",
       "      <td>1.013466</td>\n",
       "      <td>1.245107</td>\n",
       "      <td>1.029954</td>\n",
       "      <td>1.126536</td>\n",
       "      <td>1.145441</td>\n",
       "      <td>1.307165</td>\n",
       "      <td>1.204466</td>\n",
       "      <td>1.317648</td>\n",
       "      <td>1.202830</td>\n",
       "      <td>1.180926</td>\n",
       "      <td>0.909802</td>\n",
       "      <td>2.395932</td>\n",
       "    </tr>\n",
       "    <tr>\n",
       "      <th>min</th>\n",
       "      <td>1.000000</td>\n",
       "      <td>0.000000</td>\n",
       "      <td>1.000000</td>\n",
       "      <td>0.000000</td>\n",
       "      <td>0.000000</td>\n",
       "      <td>0.000000</td>\n",
       "      <td>0.000000</td>\n",
       "      <td>0.000000</td>\n",
       "      <td>1.000000</td>\n",
       "      <td>1.000000</td>\n",
       "      <td>1.000000</td>\n",
       "      <td>1.000000</td>\n",
       "      <td>1.000000</td>\n",
       "      <td>1.000000</td>\n",
       "      <td>1.000000</td>\n",
       "      <td>1.000000</td>\n",
       "      <td>1.000000</td>\n",
       "      <td>1.000000</td>\n",
       "      <td>1.000000</td>\n",
       "      <td>1.000000</td>\n",
       "    </tr>\n",
       "    <tr>\n",
       "      <th>25%</th>\n",
       "      <td>2.000000</td>\n",
       "      <td>3.000000</td>\n",
       "      <td>2.000000</td>\n",
       "      <td>2.000000</td>\n",
       "      <td>2.000000</td>\n",
       "      <td>1.000000</td>\n",
       "      <td>2.000000</td>\n",
       "      <td>2.000000</td>\n",
       "      <td>4.000000</td>\n",
       "      <td>2.000000</td>\n",
       "      <td>4.000000</td>\n",
       "      <td>3.000000</td>\n",
       "      <td>2.250000</td>\n",
       "      <td>2.000000</td>\n",
       "      <td>2.000000</td>\n",
       "      <td>2.000000</td>\n",
       "      <td>2.000000</td>\n",
       "      <td>3.000000</td>\n",
       "      <td>3.000000</td>\n",
       "      <td>1.000000</td>\n",
       "    </tr>\n",
       "    <tr>\n",
       "      <th>50%</th>\n",
       "      <td>3.000000</td>\n",
       "      <td>3.000000</td>\n",
       "      <td>4.000000</td>\n",
       "      <td>3.000000</td>\n",
       "      <td>3.000000</td>\n",
       "      <td>3.000000</td>\n",
       "      <td>3.000000</td>\n",
       "      <td>4.000000</td>\n",
       "      <td>4.000000</td>\n",
       "      <td>3.000000</td>\n",
       "      <td>4.000000</td>\n",
       "      <td>4.000000</td>\n",
       "      <td>3.000000</td>\n",
       "      <td>3.000000</td>\n",
       "      <td>3.000000</td>\n",
       "      <td>3.000000</td>\n",
       "      <td>3.000000</td>\n",
       "      <td>4.000000</td>\n",
       "      <td>4.000000</td>\n",
       "      <td>2.500000</td>\n",
       "    </tr>\n",
       "    <tr>\n",
       "      <th>75%</th>\n",
       "      <td>4.000000</td>\n",
       "      <td>4.000000</td>\n",
       "      <td>5.000000</td>\n",
       "      <td>4.000000</td>\n",
       "      <td>4.000000</td>\n",
       "      <td>4.000000</td>\n",
       "      <td>4.000000</td>\n",
       "      <td>4.000000</td>\n",
       "      <td>5.000000</td>\n",
       "      <td>4.000000</td>\n",
       "      <td>5.000000</td>\n",
       "      <td>4.000000</td>\n",
       "      <td>4.000000</td>\n",
       "      <td>4.000000</td>\n",
       "      <td>4.000000</td>\n",
       "      <td>4.000000</td>\n",
       "      <td>4.000000</td>\n",
       "      <td>5.000000</td>\n",
       "      <td>5.000000</td>\n",
       "      <td>6.000000</td>\n",
       "    </tr>\n",
       "    <tr>\n",
       "      <th>max</th>\n",
       "      <td>5.000000</td>\n",
       "      <td>5.000000</td>\n",
       "      <td>5.000000</td>\n",
       "      <td>5.000000</td>\n",
       "      <td>5.000000</td>\n",
       "      <td>5.000000</td>\n",
       "      <td>5.000000</td>\n",
       "      <td>5.000000</td>\n",
       "      <td>5.000000</td>\n",
       "      <td>5.000000</td>\n",
       "      <td>5.000000</td>\n",
       "      <td>5.000000</td>\n",
       "      <td>5.000000</td>\n",
       "      <td>5.000000</td>\n",
       "      <td>5.000000</td>\n",
       "      <td>5.000000</td>\n",
       "      <td>5.000000</td>\n",
       "      <td>5.000000</td>\n",
       "      <td>5.000000</td>\n",
       "      <td>7.000000</td>\n",
       "    </tr>\n",
       "  </tbody>\n",
       "</table>\n",
       "</div>"
      ],
      "text/plain": [
       "       PercentageHighSchool  EnglishMarks  MathsMarks  PhysicsMarks  \\\n",
       "count            150.000000    150.000000  150.000000    150.000000   \n",
       "mean               3.273333      3.440000    3.480000      3.220000   \n",
       "std                1.140450      1.217766    1.364556      1.304972   \n",
       "min                1.000000      0.000000    1.000000      0.000000   \n",
       "25%                2.000000      3.000000    2.000000      2.000000   \n",
       "50%                3.000000      3.000000    4.000000      3.000000   \n",
       "75%                4.000000      4.000000    5.000000      4.000000   \n",
       "max                5.000000      5.000000    5.000000      5.000000   \n",
       "\n",
       "       ChemistryMarks  BiologyMarks  AccountingMarks  ComputerMarks  \\\n",
       "count      150.000000    150.000000       150.000000     150.000000   \n",
       "mean         2.920000      2.513333         2.726667       3.146667   \n",
       "std          1.397601      1.782603         1.596543       1.635950   \n",
       "min          0.000000      0.000000         0.000000       0.000000   \n",
       "25%          2.000000      1.000000         2.000000       2.000000   \n",
       "50%          3.000000      3.000000         3.000000       4.000000   \n",
       "75%          4.000000      4.000000         4.000000       4.000000   \n",
       "max          5.000000      5.000000         5.000000       5.000000   \n",
       "\n",
       "       ComputerSkills  ArtsSkills  PsychologySkills  MedicalSkills  \\\n",
       "count      150.000000  150.000000        150.000000     150.000000   \n",
       "mean         4.080000    2.993333          4.140000       3.626667   \n",
       "std          1.013466    1.245107          1.029954       1.126536   \n",
       "min          1.000000    1.000000          1.000000       1.000000   \n",
       "25%          4.000000    2.000000          4.000000       3.000000   \n",
       "50%          4.000000    3.000000          4.000000       4.000000   \n",
       "75%          5.000000    4.000000          5.000000       4.000000   \n",
       "max          5.000000    5.000000          5.000000       5.000000   \n",
       "\n",
       "       PoliticsSkills  MedicalSkills2   LawSkills  ComputerSkills2  \\\n",
       "count      150.000000      150.000000  150.000000       150.000000   \n",
       "mean         3.173333        2.793333    2.840000         2.906667   \n",
       "std          1.145441        1.307165    1.204466         1.317648   \n",
       "min          1.000000        1.000000    1.000000         1.000000   \n",
       "25%          2.250000        2.000000    2.000000         2.000000   \n",
       "50%          3.000000        3.000000    3.000000         3.000000   \n",
       "75%          4.000000        4.000000    4.000000         4.000000   \n",
       "max          5.000000        5.000000    5.000000         5.000000   \n",
       "\n",
       "       BankingSkills  BankingSkills2        CGPA  UniversityDepartment  \n",
       "count     150.000000      150.000000  150.000000            150.000000  \n",
       "mean        3.053333        3.606667    3.933333              3.266667  \n",
       "std         1.202830        1.180926    0.909802              2.395932  \n",
       "min         1.000000        1.000000    1.000000              1.000000  \n",
       "25%         2.000000        3.000000    3.000000              1.000000  \n",
       "50%         3.000000        4.000000    4.000000              2.500000  \n",
       "75%         4.000000        5.000000    5.000000              6.000000  \n",
       "max         5.000000        5.000000    5.000000              7.000000  "
      ]
     },
     "execution_count": 28,
     "metadata": {},
     "output_type": "execute_result"
    }
   ],
   "source": [
    "df2.describe(include='all')"
   ]
  },
  {
   "cell_type": "code",
   "execution_count": 29,
   "metadata": {},
   "outputs": [
    {
     "data": {
      "image/png": "[encoded data removed]",
      "text/plain": [
       "<Figure size 1440x1440 with 2 Axes>"
      ]
     },
     "metadata": {
      "needs_background": "light"
     },
     "output_type": "display_data"
    }
   ],
   "source": [
    "import seaborn as sns\n",
    "#get correlations of each features in dataset\n",
    "corrmat = df2.corr()\n",
    "top_corr_features = corrmat.index\n",
    "plt.figure(figsize=(20,20))\n",
    "#plot heat map\n",
    "g=sns.heatmap(df2[top_corr_features].corr(),annot=True,cmap=\"RdYlGn\")"
   ]
  },
  {
   "cell_type": "markdown",
   "metadata": {},
   "source": [
    "# From first Feature Extraction Method, Found best Features which give high accuracy .Saved those features in the variable named BestSelectedFeatures (AS SHOWN BELOW)"
   ]
  },
  {
   "cell_type": "code",
   "execution_count": 30,
   "metadata": {
    "scrolled": true
   },
   "outputs": [],
   "source": [
    "#X = df2[SelectedColumns]\n",
    "BestSelectedFeatures =['ComputerSkills2',\n",
    " 'MedicalSkills2',\n",
    " 'BankingSkills2',\n",
    " 'MathsMarks',\n",
    " 'PhysicsMarks',\n",
    " 'ComputerMarks',\n",
    " 'BiologyMarks',\n",
    " 'AccountingMarks',\n",
    " 'ComputerSkills',\n",
    " 'LawSkills',\n",
    " 'ChemistryMarks',\n",
    " 'PoliticsSkills']\n",
    "X = df2[BestSelectedFeatures]\n",
    "\n",
    "#a = pd.DataFrame(BestSelectedFeatures)\n",
    "#b=pd.DataFrame(FeaturesFound1)\n",
    "#c =pd.DataFrame(FeaturesFound2)\n",
    "#k = pd.concat([a ,b , c],axis = 1)\n",
    "#k"
   ]
  },
  {
   "cell_type": "markdown",
   "metadata": {},
   "source": []
  },
  {
   "cell_type": "code",
   "execution_count": 31,
   "metadata": {},
   "outputs": [],
   "source": [
    "Y = df2['UniversityDepartment']"
   ]
  },
  {
   "cell_type": "code",
   "execution_count": 32,
   "metadata": {},
   "outputs": [],
   "source": [
    "import numpy as np\n",
    "import pandas as pd\n",
    "from sklearn.model_selection import train_test_split\n",
    "from sklearn.tree import DecisionTreeClassifier\n",
    "from sklearn.tree import DecisionTreeRegressor\n",
    "from sklearn.metrics import accuracy_score\n",
    "from sklearn.datasets import load_iris\n",
    "from sklearn import tree"
   ]
  },
  {
   "cell_type": "code",
   "execution_count": 33,
   "metadata": {},
   "outputs": [],
   "source": [
    "X_train, X_test, y_train, y_test = train_test_split( X, Y, test_size = 0.3, random_state = 100)\n",
    "\n"
   ]
  },
  {
   "cell_type": "code",
   "execution_count": 34,
   "metadata": {},
   "outputs": [],
   "source": [
    "#scaler = StandardScaler()\n",
    "\n",
    "# Fit on training set only.\n",
    "#scaler.fit(X_train)"
   ]
  },
  {
   "cell_type": "code",
   "execution_count": 35,
   "metadata": {},
   "outputs": [],
   "source": [
    "#X_train = scaler.transform(X_train)\n",
    "#X_test = scaler.transform(X_test)\n"
   ]
  },
  {
   "cell_type": "code",
   "execution_count": 36,
   "metadata": {},
   "outputs": [
    {
     "data": {
      "text/plain": [
       "DecisionTreeClassifier(max_depth=3, min_samples_leaf=10, random_state=100)"
      ]
     },
     "execution_count": 36,
     "metadata": {},
     "output_type": "execute_result"
    }
   ],
   "source": [
    "clf_gini = DecisionTreeClassifier(criterion = \"gini\", random_state = 100,\n",
    "                               max_depth=3, min_samples_leaf=10)\n",
    "clf_gini.fit(X_train, y_train)"
   ]
  },
  {
   "cell_type": "code",
   "execution_count": 37,
   "metadata": {},
   "outputs": [
    {
     "data": {
      "text/plain": [
       "DecisionTreeClassifier(criterion='entropy', max_depth=3, min_samples_leaf=10,\n",
       "                       random_state=100)"
      ]
     },
     "execution_count": 37,
     "metadata": {},
     "output_type": "execute_result"
    }
   ],
   "source": [
    "clf_entropy = DecisionTreeClassifier(criterion = \"entropy\", random_state = 100,\n",
    " max_depth=3, min_samples_leaf=10)\n",
    "clf_entropy.fit(X_train, y_train)"
   ]
  },
  {
   "cell_type": "code",
   "execution_count": 38,
   "metadata": {},
   "outputs": [
    {
     "data": {
      "text/plain": [
       "(45, 12)"
      ]
     },
     "execution_count": 38,
     "metadata": {},
     "output_type": "execute_result"
    }
   ],
   "source": [
    "#clf_gini.predict([3, 3, 1, 1])\n",
    "X_test.shape"
   ]
  },
  {
   "cell_type": "code",
   "execution_count": 39,
   "metadata": {},
   "outputs": [
    {
     "data": {
      "text/plain": [
       "array([1., 1., 1., 1., 6., 1., 1., 1., 1., 1., 1., 6., 1., 1., 6., 1., 1.,\n",
       "       6., 1., 6., 6., 1., 1., 6., 1., 1., 6., 1., 1., 1., 6., 1., 1., 1.,\n",
       "       1., 1., 1., 6., 1., 1., 1., 1., 1., 6., 1.])"
      ]
     },
     "execution_count": 39,
     "metadata": {},
     "output_type": "execute_result"
    }
   ],
   "source": [
    "y_pred = clf_gini.predict(X_test)\n",
    "y_pred"
   ]
  },
  {
   "cell_type": "code",
   "execution_count": 40,
   "metadata": {
    "scrolled": false
   },
   "outputs": [
    {
     "name": "stdout",
     "output_type": "stream",
     "text": [
      "Accuracy is  62.22222222222222\n"
     ]
    }
   ],
   "source": [
    "print (\"Accuracy is \", accuracy_score(y_test,y_pred)*100)\n"
   ]
  },
  {
   "cell_type": "code",
   "execution_count": 41,
   "metadata": {},
   "outputs": [
    {
     "data": {
      "text/plain": [
       "[Text(413.3333333333333, 792.75, 'X[3] <= 4.0\\ngini = 1.0\\nsamples = 105\\nvalue = [53, 2, 9, 6, 32, 3]'),\n",
       " Text(206.66666666666666, 566.25, 'X[7] <= 2.0\\ngini = 1.0\\nsamples = 71\\nvalue = [28, 2, 3, 6, 29, 3]'),\n",
       " Text(103.33333333333333, 339.75, 'gini = 1.0\\nsamples = 15\\nvalue = [9, 0, 2, 2, 0, 2]'),\n",
       " Text(310.0, 339.75, 'X[2] <= 4.0\\ngini = 1.0\\nsamples = 56\\nvalue = [19, 2, 1, 4, 29, 1]'),\n",
       " Text(206.66666666666666, 113.25, 'gini = 1.0\\nsamples = 23\\nvalue = [11, 0, 1, 3, 8, 0]'),\n",
       " Text(413.3333333333333, 113.25, 'gini = 1.0\\nsamples = 33\\nvalue = [8, 2, 0, 1, 21, 1]'),\n",
       " Text(620.0, 566.25, 'X[2] <= 4.0\\ngini = 0.0\\nsamples = 34\\nvalue = [25, 0, 6, 0, 3, 0]'),\n",
       " Text(516.6666666666666, 339.75, 'gini = 0.0\\nsamples = 13\\nvalue = [7, 0, 6, 0, 0, 0]'),\n",
       " Text(723.3333333333333, 339.75, 'X[0] <= 2.0\\ngini = 0.0\\nsamples = 21\\nvalue = [18, 0, 0, 0, 3, 0]'),\n",
       " Text(620.0, 113.25, 'gini = 0.0\\nsamples = 10\\nvalue = [7, 0, 0, 0, 3, 0]'),\n",
       " Text(826.6666666666666, 113.25, 'gini = 0.0\\nsamples = 11\\nvalue = [11, 0, 0, 0, 0, 0]')]"
      ]
     },
     "execution_count": 41,
     "metadata": {},
     "output_type": "execute_result"
    },
    {
     "data": {
      "image/png": "[encoded data removed]",
      "text/plain": [
       "<Figure size 1200x1200 with 1 Axes>"
      ]
     },
     "metadata": {
      "needs_background": "light"
     },
     "output_type": "display_data"
    }
   ],
   "source": [
    "clf = tree.DecisionTreeClassifier(random_state=0)\n",
    "clf = clf.fit(X_train, y_train)\n",
    "fig, axes = plt.subplots(nrows = 1,ncols = 1,figsize = (4,4), dpi=300)\n",
    "tree.plot_tree(clf)\n",
    "tree.plot_tree(clf_gini, precision=0)"
   ]
  },
  {
   "cell_type": "code",
   "execution_count": 42,
   "metadata": {},
   "outputs": [],
   "source": [
    "# RMSE"
   ]
  },
  {
   "cell_type": "code",
   "execution_count": 43,
   "metadata": {},
   "outputs": [],
   "source": [
    "from sklearn.metrics import mean_squared_error\n",
    "from math import sqrt"
   ]
  },
  {
   "cell_type": "code",
   "execution_count": 64,
   "metadata": {},
   "outputs": [
    {
     "data": {
      "text/plain": [
       "array([1., 1., 1., 1., 1., 5., 6., 1., 1., 1., 1., 1., 1., 1., 6., 1., 1.,\n",
       "       1., 6., 6., 6., 1., 1., 1., 1., 1., 1., 1., 1., 6., 6., 1., 1., 1.,\n",
       "       1., 1., 6., 1., 1., 1., 1., 1., 1., 1., 1., 1., 1., 1., 1., 1., 6.,\n",
       "       1., 1., 1., 1., 1., 1., 1., 1., 1., 1., 1., 1., 1., 1., 1., 1., 1.,\n",
       "       1., 1., 1., 1., 1., 1., 6., 1., 6., 6., 6., 6., 6., 1., 6., 1., 6.,\n",
       "       6., 1., 3., 1., 6., 5., 5., 5., 5., 3., 6., 1., 7., 6., 5., 3., 6.,\n",
       "       3., 6., 6., 1., 6., 6., 6., 6., 3., 3., 5., 3., 5., 6., 1., 1., 1.,\n",
       "       1., 1., 1., 1., 1., 1., 6., 1., 6., 1., 6., 6., 6., 1., 1., 6., 6.,\n",
       "       6., 6., 6., 7., 5., 2., 1., 6., 6., 6., 6., 3., 5., 3.])"
      ]
     },
     "execution_count": 64,
     "metadata": {},
     "output_type": "execute_result"
    }
   ],
   "source": [
    "y_predicted = logmodel.predict(X)\n",
    "y_predicted"
   ]
  },
  {
   "cell_type": "code",
   "execution_count": 65,
   "metadata": {},
   "outputs": [
    {
     "data": {
      "text/plain": [
       "2.2568414506414345"
      ]
     },
     "execution_count": 65,
     "metadata": {},
     "output_type": "execute_result"
    }
   ],
   "source": [
    "rms = sqrt(mean_squared_error(Y, y_predicted))\n",
    "rms"
   ]
  },
  {
   "cell_type": "code",
   "execution_count": 66,
   "metadata": {},
   "outputs": [
    {
     "data": {
      "text/plain": [
       "1.5022787526426093"
      ]
     },
     "execution_count": 66,
     "metadata": {},
     "output_type": "execute_result"
    }
   ],
   "source": [
    "rmse = sqrt(mean_squared_error(Y, y_predicted,squared=False))\n",
    "rmse"
   ]
  },
  {
   "cell_type": "code",
   "execution_count": 67,
   "metadata": {},
   "outputs": [],
   "source": [
    "# MAE"
   ]
  },
  {
   "cell_type": "code",
   "execution_count": 68,
   "metadata": {},
   "outputs": [],
   "source": [
    "from sklearn.metrics import mean_absolute_error"
   ]
  },
  {
   "cell_type": "code",
   "execution_count": 69,
   "metadata": {},
   "outputs": [
    {
     "data": {
      "text/plain": [
       "1.08"
      ]
     },
     "execution_count": 69,
     "metadata": {},
     "output_type": "execute_result"
    }
   ],
   "source": [
    "mae = mean_absolute_error(Y,y_predicted)\n",
    "mae"
   ]
  },
  {
   "cell_type": "code",
   "execution_count": null,
   "metadata": {},
   "outputs": [],
   "source": []
  },
  {
   "cell_type": "code",
   "execution_count": null,
   "metadata": {},
   "outputs": [],
   "source": []
  },
  {
   "cell_type": "code",
   "execution_count": 70,
   "metadata": {
    "scrolled": true
   },
   "outputs": [
    {
     "name": "stderr",
     "output_type": "stream",
     "text": [
      "C:\\Users\\saads\\anaconda3\\lib\\site-packages\\sklearn\\linear_model\\_logistic.py:762: ConvergenceWarning: lbfgs failed to converge (status=1):\n",
      "STOP: TOTAL NO. of ITERATIONS REACHED LIMIT.\n",
      "\n",
      "Increase the number of iterations (max_iter) or scale the data as shown in:\n",
      "    https://scikit-learn.org/stable/modules/preprocessing.html\n",
      "Please also refer to the documentation for alternative solver options:\n",
      "    https://scikit-learn.org/stable/modules/linear_model.html#logistic-regression\n",
      "  n_iter_i = _check_optimize_result(\n"
     ]
    },
    {
     "ename": "ValueError",
     "evalue": "X has 13 features per sample; expecting 12",
     "output_type": "error",
     "traceback": [
      "\u001b[1;31m---------------------------------------------------------------------------\u001b[0m",
      "\u001b[1;31mValueError\u001b[0m                                Traceback (most recent call last)",
      "\u001b[1;32m<ipython-input-70-270f63009113>\u001b[0m in \u001b[0;36m<module>\u001b[1;34m\u001b[0m\n\u001b[0;32m      7\u001b[0m \u001b[0mlogmodel\u001b[0m\u001b[1;33m.\u001b[0m\u001b[0mfit\u001b[0m\u001b[1;33m(\u001b[0m\u001b[0mX_train\u001b[0m\u001b[1;33m,\u001b[0m \u001b[0my_train\u001b[0m\u001b[1;33m)\u001b[0m\u001b[1;33m\u001b[0m\u001b[1;33m\u001b[0m\u001b[0m\n\u001b[0;32m      8\u001b[0m \u001b[1;33m\u001b[0m\u001b[0m\n\u001b[1;32m----> 9\u001b[1;33m \u001b[0mpredictions\u001b[0m \u001b[1;33m=\u001b[0m \u001b[0mlogmodel\u001b[0m\u001b[1;33m.\u001b[0m\u001b[0mpredict\u001b[0m\u001b[1;33m(\u001b[0m\u001b[0mX_test\u001b[0m\u001b[1;33m)\u001b[0m\u001b[1;33m\u001b[0m\u001b[1;33m\u001b[0m\u001b[0m\n\u001b[0m\u001b[0;32m     10\u001b[0m \u001b[0mpredictions\u001b[0m\u001b[1;33m\u001b[0m\u001b[1;33m\u001b[0m\u001b[0m\n\u001b[0;32m     11\u001b[0m \u001b[1;33m\u001b[0m\u001b[0m\n",
      "\u001b[1;32m~\\anaconda3\\lib\\site-packages\\sklearn\\linear_model\\_base.py\u001b[0m in \u001b[0;36mpredict\u001b[1;34m(self, X)\u001b[0m\n\u001b[0;32m    305\u001b[0m             \u001b[0mPredicted\u001b[0m \u001b[1;32mclass\u001b[0m \u001b[0mlabel\u001b[0m \u001b[0mper\u001b[0m \u001b[0msample\u001b[0m\u001b[1;33m.\u001b[0m\u001b[1;33m\u001b[0m\u001b[1;33m\u001b[0m\u001b[0m\n\u001b[0;32m    306\u001b[0m         \"\"\"\n\u001b[1;32m--> 307\u001b[1;33m         \u001b[0mscores\u001b[0m \u001b[1;33m=\u001b[0m \u001b[0mself\u001b[0m\u001b[1;33m.\u001b[0m\u001b[0mdecision_function\u001b[0m\u001b[1;33m(\u001b[0m\u001b[0mX\u001b[0m\u001b[1;33m)\u001b[0m\u001b[1;33m\u001b[0m\u001b[1;33m\u001b[0m\u001b[0m\n\u001b[0m\u001b[0;32m    308\u001b[0m         \u001b[1;32mif\u001b[0m \u001b[0mlen\u001b[0m\u001b[1;33m(\u001b[0m\u001b[0mscores\u001b[0m\u001b[1;33m.\u001b[0m\u001b[0mshape\u001b[0m\u001b[1;33m)\u001b[0m \u001b[1;33m==\u001b[0m \u001b[1;36m1\u001b[0m\u001b[1;33m:\u001b[0m\u001b[1;33m\u001b[0m\u001b[1;33m\u001b[0m\u001b[0m\n\u001b[0;32m    309\u001b[0m             \u001b[0mindices\u001b[0m \u001b[1;33m=\u001b[0m \u001b[1;33m(\u001b[0m\u001b[0mscores\u001b[0m \u001b[1;33m>\u001b[0m \u001b[1;36m0\u001b[0m\u001b[1;33m)\u001b[0m\u001b[1;33m.\u001b[0m\u001b[0mastype\u001b[0m\u001b[1;33m(\u001b[0m\u001b[0mnp\u001b[0m\u001b[1;33m.\u001b[0m\u001b[0mint\u001b[0m\u001b[1;33m)\u001b[0m\u001b[1;33m\u001b[0m\u001b[1;33m\u001b[0m\u001b[0m\n",
      "\u001b[1;32m~\\anaconda3\\lib\\site-packages\\sklearn\\linear_model\\_base.py\u001b[0m in \u001b[0;36mdecision_function\u001b[1;34m(self, X)\u001b[0m\n\u001b[0;32m    284\u001b[0m         \u001b[0mn_features\u001b[0m \u001b[1;33m=\u001b[0m \u001b[0mself\u001b[0m\u001b[1;33m.\u001b[0m\u001b[0mcoef_\u001b[0m\u001b[1;33m.\u001b[0m\u001b[0mshape\u001b[0m\u001b[1;33m[\u001b[0m\u001b[1;36m1\u001b[0m\u001b[1;33m]\u001b[0m\u001b[1;33m\u001b[0m\u001b[1;33m\u001b[0m\u001b[0m\n\u001b[0;32m    285\u001b[0m         \u001b[1;32mif\u001b[0m \u001b[0mX\u001b[0m\u001b[1;33m.\u001b[0m\u001b[0mshape\u001b[0m\u001b[1;33m[\u001b[0m\u001b[1;36m1\u001b[0m\u001b[1;33m]\u001b[0m \u001b[1;33m!=\u001b[0m \u001b[0mn_features\u001b[0m\u001b[1;33m:\u001b[0m\u001b[1;33m\u001b[0m\u001b[1;33m\u001b[0m\u001b[0m\n\u001b[1;32m--> 286\u001b[1;33m             raise ValueError(\"X has %d features per sample; expecting %d\"\n\u001b[0m\u001b[0;32m    287\u001b[0m                              % (X.shape[1], n_features))\n\u001b[0;32m    288\u001b[0m \u001b[1;33m\u001b[0m\u001b[0m\n",
      "\u001b[1;31mValueError\u001b[0m: X has 13 features per sample; expecting 12"
     ]
    }
   ],
   "source": [
    "from sklearn.model_selection import train_test_split\n",
    "from sklearn.linear_model import LogisticRegression\n",
    "from sklearn.metrics import classification_report\n",
    "from sklearn.metrics import confusion_matrix,accuracy_score\n",
    "\n",
    "logmodel = LogisticRegression()\n",
    "logmodel.fit(X_train, y_train)\n",
    " \n",
    "predictions = logmodel.predict(X_test)\n",
    "predictions\n",
    "\n",
    "d=X_test.to_numpy()\n",
    "temp =[]\n",
    "for i in range(len(X_test)):\n",
    "    temp.append(predictions[i])\n",
    "#     print(d[i],\"$$$$$$\",new_output[i])\n",
    "# temp\n",
    "X_test[\"final\"]=temp\n",
    "X_test.head(92)\n"
   ]
  },
  {
   "cell_type": "code",
   "execution_count": null,
   "metadata": {},
   "outputs": [],
   "source": [
    "\n",
    "#print(classification_report(y_test, predictions))\n",
    "#print(confusion_matrix(y_test, predictions))\n",
    "print(accuracy_score(y_test, predictions))"
   ]
  },
  {
   "cell_type": "code",
   "execution_count": null,
   "metadata": {},
   "outputs": [],
   "source": [
    "\n",
    "\n"
   ]
  },
  {
   "cell_type": "code",
   "execution_count": null,
   "metadata": {},
   "outputs": [],
   "source": []
  },
  {
   "cell_type": "code",
   "execution_count": null,
   "metadata": {},
   "outputs": [],
   "source": []
  },
  {
   "cell_type": "code",
   "execution_count": 71,
   "metadata": {},
   "outputs": [
    {
     "data": {
      "text/plain": [
       "1.0"
      ]
     },
     "execution_count": 71,
     "metadata": {},
     "output_type": "execute_result"
    }
   ],
   "source": [
    "predictions[29]"
   ]
  },
  {
   "cell_type": "code",
   "execution_count": 72,
   "metadata": {},
   "outputs": [
    {
     "name": "stdout",
     "output_type": "stream",
     "text": [
      "{'C': 1.0, 'class_weight': None, 'dual': False, 'fit_intercept': True, 'intercept_scaling': 1, 'l1_ratio': None, 'max_iter': 100, 'multi_class': 'auto', 'n_jobs': None, 'penalty': 'l2', 'random_state': None, 'solver': 'lbfgs', 'tol': 0.0001, 'verbose': 0, 'warm_start': False}\n"
     ]
    }
   ],
   "source": [
    "params = logmodel.get_params()\n",
    "print(params)"
   ]
  },
  {
   "cell_type": "code",
   "execution_count": 73,
   "metadata": {},
   "outputs": [
    {
     "name": "stdout",
     "output_type": "stream",
     "text": [
      "Intercept: \n",
      " [-1.06855403 -8.96779047 -1.3922758   5.87836945 -0.34771087  5.89796172]\n"
     ]
    }
   ],
   "source": [
    "print('Intercept: \\n', logmodel.intercept_)\n"
   ]
  },
  {
   "cell_type": "code",
   "execution_count": 74,
   "metadata": {},
   "outputs": [
    {
     "data": {
      "image/png": "[encoded data removed]",
      "text/plain": [
       "<Figure size 432x288 with 2 Axes>"
      ]
     },
     "metadata": {
      "needs_background": "light"
     },
     "output_type": "display_data"
    }
   ],
   "source": [
    "sns.heatmap(pd.DataFrame(confusion_matrix(y_test,predictions)))\n",
    "plt.show()"
   ]
  },
  {
   "cell_type": "code",
   "execution_count": 75,
   "metadata": {},
   "outputs": [],
   "source": [
    "# RMSE"
   ]
  },
  {
   "cell_type": "code",
   "execution_count": 76,
   "metadata": {
    "scrolled": true
   },
   "outputs": [],
   "source": [
    "from sklearn.metrics import mean_squared_error\n",
    "from math import sqrt"
   ]
  },
  {
   "cell_type": "code",
   "execution_count": 77,
   "metadata": {},
   "outputs": [
    {
     "data": {
      "text/plain": [
       "array([1., 1., 1., 1., 1., 5., 6., 1., 1., 1., 1., 1., 1., 1., 6., 1., 1.,\n",
       "       1., 6., 6., 6., 1., 1., 1., 1., 1., 1., 1., 1., 6., 6., 1., 1., 1.,\n",
       "       1., 1., 6., 1., 1., 1., 1., 1., 1., 1., 1., 1., 1., 1., 1., 1., 6.,\n",
       "       1., 1., 1., 1., 1., 1., 1., 1., 1., 1., 1., 1., 1., 1., 1., 1., 1.,\n",
       "       1., 1., 1., 1., 1., 1., 6., 1., 6., 6., 6., 6., 6., 1., 6., 1., 6.,\n",
       "       6., 1., 3., 1., 6., 5., 5., 5., 5., 3., 6., 1., 7., 6., 5., 3., 6.,\n",
       "       3., 6., 6., 1., 6., 6., 6., 6., 3., 3., 5., 3., 5., 6., 1., 1., 1.,\n",
       "       1., 1., 1., 1., 1., 1., 6., 1., 6., 1., 6., 6., 6., 1., 1., 6., 6.,\n",
       "       6., 6., 6., 7., 5., 2., 1., 6., 6., 6., 6., 3., 5., 3.])"
      ]
     },
     "execution_count": 77,
     "metadata": {},
     "output_type": "execute_result"
    }
   ],
   "source": [
    "y_predicted = logmodel.predict(X)\n",
    "y_predicted\n"
   ]
  },
  {
   "cell_type": "code",
   "execution_count": 78,
   "metadata": {},
   "outputs": [
    {
     "data": {
      "text/plain": [
       "2.2568414506414345"
      ]
     },
     "execution_count": 78,
     "metadata": {},
     "output_type": "execute_result"
    }
   ],
   "source": [
    "rms = sqrt(mean_squared_error(Y, y_predicted))\n",
    "rms"
   ]
  },
  {
   "cell_type": "code",
   "execution_count": 79,
   "metadata": {},
   "outputs": [
    {
     "data": {
      "text/plain": [
       "1.5022787526426093"
      ]
     },
     "execution_count": 79,
     "metadata": {},
     "output_type": "execute_result"
    }
   ],
   "source": [
    "rmse = sqrt(mean_squared_error(Y, y_predicted,squared=False))\n",
    "rmse"
   ]
  },
  {
   "cell_type": "code",
   "execution_count": 80,
   "metadata": {},
   "outputs": [],
   "source": [
    "# MAE"
   ]
  },
  {
   "cell_type": "code",
   "execution_count": 81,
   "metadata": {},
   "outputs": [],
   "source": [
    "from sklearn.metrics import mean_absolute_error"
   ]
  },
  {
   "cell_type": "code",
   "execution_count": 82,
   "metadata": {},
   "outputs": [
    {
     "data": {
      "text/plain": [
       "1.08"
      ]
     },
     "execution_count": 82,
     "metadata": {},
     "output_type": "execute_result"
    }
   ],
   "source": [
    "mae = mean_absolute_error(Y,y_predicted)\n",
    "mae"
   ]
  },
  {
   "cell_type": "code",
   "execution_count": null,
   "metadata": {},
   "outputs": [],
   "source": []
  },
  {
   "cell_type": "code",
   "execution_count": null,
   "metadata": {},
   "outputs": [],
   "source": []
  },
  {
   "cell_type": "code",
   "execution_count": null,
   "metadata": {},
   "outputs": [],
   "source": []
  },
  {
   "cell_type": "code",
   "execution_count": null,
   "metadata": {},
   "outputs": [],
   "source": []
  },
  {
   "cell_type": "code",
   "execution_count": null,
   "metadata": {},
   "outputs": [],
   "source": []
  },
  {
   "cell_type": "code",
   "execution_count": null,
   "metadata": {},
   "outputs": [],
   "source": []
  },
  {
   "cell_type": "code",
   "execution_count": null,
   "metadata": {},
   "outputs": [],
   "source": []
  },
  {
   "cell_type": "code",
   "execution_count": null,
   "metadata": {},
   "outputs": [],
   "source": []
  },
  {
   "cell_type": "code",
   "execution_count": null,
   "metadata": {},
   "outputs": [],
   "source": []
  }
 ],
 "metadata": {
  "kernelspec": {
   "display_name": "Python 3",
   "language": "python",
   "name": "python3"
  },
  "language_info": {
   "codemirror_mode": {
    "name": "ipython",
    "version": 3
   },
   "file_extension": ".py",
   "mimetype": "text/x-python",
   "name": "python",
   "nbconvert_exporter": "python",
   "pygments_lexer": "ipython3",
   "version": "3.8.3"
  }
 },
 "nbformat": 4,
 "nbformat_minor": 4
}
