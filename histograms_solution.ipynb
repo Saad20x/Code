{
 "cells": [
  {
   "cell_type": "code",
   "execution_count": 1,
   "metadata": {
    "execution": {
     "iopub.execute_input": "2021-09-20T13:39:08.199327Z",
     "iopub.status.busy": "2021-09-20T13:39:08.198856Z",
     "iopub.status.idle": "2021-09-20T13:39:08.202962Z",
     "shell.execute_reply": "2021-09-20T13:39:08.202392Z",
     "shell.execute_reply.started": "2021-09-20T13:39:08.199286Z"
    }
   },
   "outputs": [],
   "source": [
    "import pandas as pd\n",
    "import numpy as np\n",
    "import seaborn as sd\n",
    "import json"
   ]
  },
  {
   "cell_type": "code",
   "execution_count": 2,
   "metadata": {
    "execution": {
     "iopub.execute_input": "2021-09-20T13:39:08.740605Z",
     "iopub.status.busy": "2021-09-20T13:39:08.740214Z",
     "iopub.status.idle": "2021-09-20T13:39:08.763411Z",
     "shell.execute_reply": "2021-09-20T13:39:08.762520Z",
     "shell.execute_reply.started": "2021-09-20T13:39:08.740569Z"
    }
   },
   "outputs": [],
   "source": [
    "with open('C:/Users/Saad/Downloads/archive/profiles.json') as f:  # load json file\n",
    "    data = json.load(f)"
   ]
  },
  {
   "cell_type": "code",
   "execution_count": 3,
   "metadata": {
    "execution": {
     "iopub.execute_input": "2021-09-20T13:39:09.255563Z",
     "iopub.status.busy": "2021-09-20T13:39:09.255234Z",
     "iopub.status.idle": "2021-09-20T13:39:09.261990Z",
     "shell.execute_reply": "2021-09-20T13:39:09.261020Z",
     "shell.execute_reply.started": "2021-09-20T13:39:09.255532Z"
    }
   },
   "outputs": [
    {
     "data": {
      "text/plain": [
       "16"
      ]
     },
     "execution_count": 3,
     "metadata": {},
     "output_type": "execute_result"
    }
   ],
   "source": [
    "len(data['profiles'])"
   ]
  },
  {
   "cell_type": "code",
   "execution_count": 4,
   "metadata": {
    "execution": {
     "iopub.execute_input": "2021-09-20T13:39:10.383088Z",
     "iopub.status.busy": "2021-09-20T13:39:10.382765Z",
     "iopub.status.idle": "2021-09-20T13:39:10.390266Z",
     "shell.execute_reply": "2021-09-20T13:39:10.389424Z",
     "shell.execute_reply.started": "2021-09-20T13:39:10.383056Z"
    }
   },
   "outputs": [
    {
     "data": {
      "text/plain": [
       "{'id': 51,\n",
       " 'license_plate': 'WU7944J',\n",
       " 'brand': 'TOYOTA',\n",
       " 'model': 'RAV4',\n",
       " 'production_year': 2019,\n",
       " 'data_source': 'dfm'}"
      ]
     },
     "execution_count": 4,
     "metadata": {},
     "output_type": "execute_result"
    }
   ],
   "source": [
    "data['profiles'][2]['car']"
   ]
  },
  {
   "cell_type": "code",
   "execution_count": 5,
   "metadata": {
    "execution": {
     "iopub.execute_input": "2021-09-20T13:39:11.436860Z",
     "iopub.status.busy": "2021-09-20T13:39:11.435867Z",
     "iopub.status.idle": "2021-09-20T13:39:11.444036Z",
     "shell.execute_reply": "2021-09-20T13:39:11.443062Z",
     "shell.execute_reply.started": "2021-09-20T13:39:11.436812Z"
    }
   },
   "outputs": [
    {
     "data": {
      "text/plain": [
       "{'driver': {'id': 52,\n",
       "  'first_name': 'Aneta',\n",
       "  'last_name': 'Kerner',\n",
       "  'gender': 'female'},\n",
       " 'distance': 60.8453643213119,\n",
       " 'start_location': {'latitude': 52.689518697540926,\n",
       "  'longitude': 20.252230944619345},\n",
       " 'start_time': '2021-06-24T09:37:35Z',\n",
       " 'end_time': '2021-06-24T10:24:01Z',\n",
       " 'last_break': 61576,\n",
       " 'best_available_short': None,\n",
       " 'is_home': True,\n",
       " 'is_work': False,\n",
       " 'can_recharge': True}"
      ]
     },
     "execution_count": 5,
     "metadata": {},
     "output_type": "execute_result"
    }
   ],
   "source": [
    "data['profiles'][15]['trips'][15]"
   ]
  },
  {
   "cell_type": "code",
   "execution_count": 6,
   "metadata": {
    "execution": {
     "iopub.execute_input": "2021-09-20T13:39:11.731742Z",
     "iopub.status.busy": "2021-09-20T13:39:11.731448Z",
     "iopub.status.idle": "2021-09-20T13:39:11.737864Z",
     "shell.execute_reply": "2021-09-20T13:39:11.736608Z",
     "shell.execute_reply.started": "2021-09-20T13:39:11.731711Z"
    }
   },
   "outputs": [],
   "source": [
    "for profile in data['profiles']:\n",
    "    for trip in profile['trips']:\n",
    "        trip['car_license_plate'] = profile['car']['license_plate']"
   ]
  },
  {
   "cell_type": "code",
   "execution_count": 7,
   "metadata": {
    "execution": {
     "iopub.execute_input": "2021-09-20T13:39:12.720573Z",
     "iopub.status.busy": "2021-09-20T13:39:12.720278Z",
     "iopub.status.idle": "2021-09-20T13:39:12.726240Z",
     "shell.execute_reply": "2021-09-20T13:39:12.725404Z",
     "shell.execute_reply.started": "2021-09-20T13:39:12.720543Z"
    }
   },
   "outputs": [],
   "source": [
    "trip_data = [\n",
    "    trip for profile in data['profiles'] for trip in profile['trips']\n",
    "]"
   ]
  },
  {
   "cell_type": "code",
   "execution_count": 8,
   "metadata": {
    "execution": {
     "iopub.execute_input": "2021-09-20T13:39:13.191081Z",
     "iopub.status.busy": "2021-09-20T13:39:13.190589Z",
     "iopub.status.idle": "2021-09-20T13:39:13.195901Z",
     "shell.execute_reply": "2021-09-20T13:39:13.195089Z",
     "shell.execute_reply.started": "2021-09-20T13:39:13.191047Z"
    }
   },
   "outputs": [
    {
     "data": {
      "text/plain": [
       "1756"
      ]
     },
     "execution_count": 8,
     "metadata": {},
     "output_type": "execute_result"
    }
   ],
   "source": [
    "len(trip_data) "
   ]
  },
  {
   "cell_type": "code",
   "execution_count": 9,
   "metadata": {
    "execution": {
     "iopub.execute_input": "2021-09-20T13:39:14.246404Z",
     "iopub.status.busy": "2021-09-20T13:39:14.245904Z",
     "iopub.status.idle": "2021-09-20T13:39:14.252738Z",
     "shell.execute_reply": "2021-09-20T13:39:14.251594Z",
     "shell.execute_reply.started": "2021-09-20T13:39:14.246371Z"
    }
   },
   "outputs": [
    {
     "data": {
      "text/plain": [
       "{'driver': {'id': 62,\n",
       "  'first_name': 'Dorota',\n",
       "  'last_name': 'Mańkowska',\n",
       "  'gender': 'female'},\n",
       " 'distance': 1.61836996423968,\n",
       " 'start_location': {'latitude': 52.15000112730822,\n",
       "  'longitude': 21.05363942651425},\n",
       " 'start_time': '2021-06-25T08:39:48Z',\n",
       " 'end_time': '2021-06-25T08:44:31Z',\n",
       " 'last_break': 455,\n",
       " 'best_available_short': None,\n",
       " 'is_home': False,\n",
       " 'is_work': False,\n",
       " 'can_recharge': True,\n",
       " 'car_license_plate': 'WI361HF'}"
      ]
     },
     "execution_count": 9,
     "metadata": {},
     "output_type": "execute_result"
    }
   ],
   "source": [
    "trip_data[20]"
   ]
  },
  {
   "cell_type": "code",
   "execution_count": 10,
   "metadata": {
    "execution": {
     "iopub.execute_input": "2021-09-20T13:39:15.128051Z",
     "iopub.status.busy": "2021-09-20T13:39:15.127242Z",
     "iopub.status.idle": "2021-09-20T13:39:15.135755Z",
     "shell.execute_reply": "2021-09-20T13:39:15.134881Z",
     "shell.execute_reply.started": "2021-09-20T13:39:15.128010Z"
    }
   },
   "outputs": [],
   "source": [
    "for t in trip_data:  # Re-structuring data for pandas import\n",
    "    t['driver'] = t['driver']['id']\n",
    "    t['latitude'] = t['start_location']['latitude']\n",
    "    t['longitude'] = t['start_location']['longitude']\n",
    "    t.pop('start_location')"
   ]
  },
  {
   "cell_type": "code",
   "execution_count": 11,
   "metadata": {
    "execution": {
     "iopub.execute_input": "2021-09-20T13:39:16.220132Z",
     "iopub.status.busy": "2021-09-20T13:39:16.219845Z",
     "iopub.status.idle": "2021-09-20T13:39:16.226341Z",
     "shell.execute_reply": "2021-09-20T13:39:16.225724Z",
     "shell.execute_reply.started": "2021-09-20T13:39:16.220102Z"
    }
   },
   "outputs": [
    {
     "data": {
      "text/plain": [
       "{'driver': 62,\n",
       " 'distance': 37.4503324547605,\n",
       " 'start_time': '2021-06-29T12:54:41Z',\n",
       " 'end_time': '2021-06-29T13:58:33Z',\n",
       " 'last_break': 124,\n",
       " 'best_available_short': None,\n",
       " 'is_home': False,\n",
       " 'is_work': False,\n",
       " 'can_recharge': True,\n",
       " 'car_license_plate': 'WI361HF',\n",
       " 'latitude': 52.14920234483962,\n",
       " 'longitude': 21.055473350109075}"
      ]
     },
     "execution_count": 11,
     "metadata": {},
     "output_type": "execute_result"
    }
   ],
   "source": [
    "trip_data[0]"
   ]
  },
  {
   "cell_type": "code",
   "execution_count": 12,
   "metadata": {
    "execution": {
     "iopub.execute_input": "2021-09-20T13:39:16.920969Z",
     "iopub.status.busy": "2021-09-20T13:39:16.920487Z",
     "iopub.status.idle": "2021-09-20T13:39:16.945538Z",
     "shell.execute_reply": "2021-09-20T13:39:16.944766Z",
     "shell.execute_reply.started": "2021-09-20T13:39:16.920935Z"
    }
   },
   "outputs": [
    {
     "data": {
      "text/html": [
       "<div>\n",
       "<style scoped>\n",
       "    .dataframe tbody tr th:only-of-type {\n",
       "        vertical-align: middle;\n",
       "    }\n",
       "\n",
       "    .dataframe tbody tr th {\n",
       "        vertical-align: top;\n",
       "    }\n",
       "\n",
       "    .dataframe thead th {\n",
       "        text-align: right;\n",
       "    }\n",
       "</style>\n",
       "<table border=\"1\" class=\"dataframe\">\n",
       "  <thead>\n",
       "    <tr style=\"text-align: right;\">\n",
       "      <th></th>\n",
       "      <th>driver</th>\n",
       "      <th>distance</th>\n",
       "      <th>start_time</th>\n",
       "      <th>end_time</th>\n",
       "      <th>last_break</th>\n",
       "      <th>best_available_short</th>\n",
       "      <th>is_home</th>\n",
       "      <th>is_work</th>\n",
       "      <th>can_recharge</th>\n",
       "      <th>car_license_plate</th>\n",
       "      <th>latitude</th>\n",
       "      <th>longitude</th>\n",
       "    </tr>\n",
       "  </thead>\n",
       "  <tbody>\n",
       "    <tr>\n",
       "      <th>0</th>\n",
       "      <td>62</td>\n",
       "      <td>37.450332</td>\n",
       "      <td>2021-06-29T12:54:41Z</td>\n",
       "      <td>2021-06-29T13:58:33Z</td>\n",
       "      <td>124</td>\n",
       "      <td>None</td>\n",
       "      <td>False</td>\n",
       "      <td>False</td>\n",
       "      <td>True</td>\n",
       "      <td>WI361HF</td>\n",
       "      <td>52.149202</td>\n",
       "      <td>21.055473</td>\n",
       "    </tr>\n",
       "    <tr>\n",
       "      <th>1</th>\n",
       "      <td>62</td>\n",
       "      <td>1.287687</td>\n",
       "      <td>2021-06-29T12:47:19Z</td>\n",
       "      <td>2021-06-29T12:52:37Z</td>\n",
       "      <td>14380</td>\n",
       "      <td>None</td>\n",
       "      <td>False</td>\n",
       "      <td>False</td>\n",
       "      <td>True</td>\n",
       "      <td>WI361HF</td>\n",
       "      <td>52.142642</td>\n",
       "      <td>21.053358</td>\n",
       "    </tr>\n",
       "    <tr>\n",
       "      <th>2</th>\n",
       "      <td>62</td>\n",
       "      <td>1.188009</td>\n",
       "      <td>2021-06-29T08:43:25Z</td>\n",
       "      <td>2021-06-29T08:47:39Z</td>\n",
       "      <td>1711</td>\n",
       "      <td>None</td>\n",
       "      <td>False</td>\n",
       "      <td>False</td>\n",
       "      <td>True</td>\n",
       "      <td>WI361HF</td>\n",
       "      <td>52.149121</td>\n",
       "      <td>21.055582</td>\n",
       "    </tr>\n",
       "    <tr>\n",
       "      <th>3</th>\n",
       "      <td>62</td>\n",
       "      <td>1.289794</td>\n",
       "      <td>2021-06-29T08:08:36Z</td>\n",
       "      <td>2021-06-29T08:14:54Z</td>\n",
       "      <td>53180</td>\n",
       "      <td>None</td>\n",
       "      <td>True</td>\n",
       "      <td>False</td>\n",
       "      <td>True</td>\n",
       "      <td>WI361HF</td>\n",
       "      <td>52.142666</td>\n",
       "      <td>21.053435</td>\n",
       "    </tr>\n",
       "    <tr>\n",
       "      <th>4</th>\n",
       "      <td>62</td>\n",
       "      <td>1.159372</td>\n",
       "      <td>2021-06-28T17:17:53Z</td>\n",
       "      <td>2021-06-28T17:22:16Z</td>\n",
       "      <td>1874</td>\n",
       "      <td>None</td>\n",
       "      <td>False</td>\n",
       "      <td>False</td>\n",
       "      <td>True</td>\n",
       "      <td>WI361HF</td>\n",
       "      <td>52.149386</td>\n",
       "      <td>21.055213</td>\n",
       "    </tr>\n",
       "  </tbody>\n",
       "</table>\n",
       "</div>"
      ],
      "text/plain": [
       "   driver   distance            start_time              end_time  last_break  \\\n",
       "0      62  37.450332  2021-06-29T12:54:41Z  2021-06-29T13:58:33Z         124   \n",
       "1      62   1.287687  2021-06-29T12:47:19Z  2021-06-29T12:52:37Z       14380   \n",
       "2      62   1.188009  2021-06-29T08:43:25Z  2021-06-29T08:47:39Z        1711   \n",
       "3      62   1.289794  2021-06-29T08:08:36Z  2021-06-29T08:14:54Z       53180   \n",
       "4      62   1.159372  2021-06-28T17:17:53Z  2021-06-28T17:22:16Z        1874   \n",
       "\n",
       "  best_available_short  is_home  is_work  can_recharge car_license_plate  \\\n",
       "0                 None    False    False          True           WI361HF   \n",
       "1                 None    False    False          True           WI361HF   \n",
       "2                 None    False    False          True           WI361HF   \n",
       "3                 None     True    False          True           WI361HF   \n",
       "4                 None    False    False          True           WI361HF   \n",
       "\n",
       "    latitude  longitude  \n",
       "0  52.149202  21.055473  \n",
       "1  52.142642  21.053358  \n",
       "2  52.149121  21.055582  \n",
       "3  52.142666  21.053435  \n",
       "4  52.149386  21.055213  "
      ]
     },
     "execution_count": 12,
     "metadata": {},
     "output_type": "execute_result"
    }
   ],
   "source": [
    "trips_df = pd.DataFrame.from_dict(trip_data)\n",
    "trips_df.head()"
   ]
  },
  {
   "cell_type": "code",
   "execution_count": 13,
   "metadata": {
    "execution": {
     "iopub.execute_input": "2021-09-20T13:39:17.971862Z",
     "iopub.status.busy": "2021-09-20T13:39:17.971415Z",
     "iopub.status.idle": "2021-09-20T13:39:17.975666Z",
     "shell.execute_reply": "2021-09-20T13:39:17.974627Z",
     "shell.execute_reply.started": "2021-09-20T13:39:17.971832Z"
    }
   },
   "outputs": [],
   "source": [
    "##### Trips Average"
   ]
  },
  {
   "cell_type": "code",
   "execution_count": 14,
   "metadata": {
    "execution": {
     "iopub.execute_input": "2021-09-20T13:39:19.059240Z",
     "iopub.status.busy": "2021-09-20T13:39:19.058948Z",
     "iopub.status.idle": "2021-09-20T13:39:19.065809Z",
     "shell.execute_reply": "2021-09-20T13:39:19.064632Z",
     "shell.execute_reply.started": "2021-09-20T13:39:19.059211Z"
    }
   },
   "outputs": [
    {
     "data": {
      "text/plain": [
       "array(['WI361HF', 'WI090HP', 'WU7944J', 'WI483HF', 'WZ5957S', 'WZ5952S',\n",
       "       'WU7441J', 'WI074HJ', 'WZ5956S', 'WT2661A', 'WI089HP', 'WU7451J',\n",
       "       'WY4056L', 'WT4931A', 'WU7588J', 'WI480HF'], dtype=object)"
      ]
     },
     "execution_count": 14,
     "metadata": {},
     "output_type": "execute_result"
    }
   ],
   "source": [
    "trips_df['car_license_plate'].unique()"
   ]
  },
  {
   "cell_type": "markdown",
   "metadata": {},
   "source": [
    "### Stop Time"
   ]
  },
  {
   "cell_type": "markdown",
   "metadata": {},
   "source": [
    "### Average Stop Time per car\n",
    "Here, we group the dataframe by car using the groupby method"
   ]
  },
  {
   "cell_type": "code",
   "execution_count": 15,
   "metadata": {
    "execution": {
     "iopub.execute_input": "2021-09-20T13:40:50.873668Z",
     "iopub.status.busy": "2021-09-20T13:40:50.873354Z",
     "iopub.status.idle": "2021-09-20T13:40:50.884992Z",
     "shell.execute_reply": "2021-09-20T13:40:50.884138Z",
     "shell.execute_reply.started": "2021-09-20T13:40:50.873637Z"
    }
   },
   "outputs": [
    {
     "data": {
      "text/plain": [
       "car_license_plate\n",
       "WI074HJ     364.841919\n",
       "WI089HP     108.808177\n",
       "WI090HP     839.333681\n",
       "WI361HF     541.134058\n",
       "WI480HF    1826.002273\n",
       "WI483HF     370.044548\n",
       "WT2661A     546.320690\n",
       "WT4931A     687.392262\n",
       "WU7441J     160.004514\n",
       "WU7451J     268.875779\n",
       "WU7588J     480.142683\n",
       "WU7944J     156.216328\n",
       "WY4056L     328.395455\n",
       "WZ5952S     516.488034\n",
       "WZ5956S     185.900000\n",
       "WZ5957S     478.349005\n",
       "Name: last_break, dtype: float64"
      ]
     },
     "execution_count": 15,
     "metadata": {},
     "output_type": "execute_result"
    }
   ],
   "source": [
    "df_by_car = trips_df.groupby('car_license_plate')\n",
    "df_by_car.last_break.mean() / 60"
   ]
  },
  {
   "cell_type": "code",
   "execution_count": 16,
   "metadata": {
    "execution": {
     "iopub.execute_input": "2021-09-20T13:40:52.391991Z",
     "iopub.status.busy": "2021-09-20T13:40:52.391661Z",
     "iopub.status.idle": "2021-09-20T13:40:52.621181Z",
     "shell.execute_reply": "2021-09-20T13:40:52.620339Z",
     "shell.execute_reply.started": "2021-09-20T13:40:52.391958Z"
    }
   },
   "outputs": [
    {
     "data": {
      "text/plain": [
       "<matplotlib.axes._subplots.AxesSubplot at 0x22a1e2f8fd0>"
      ]
     },
     "execution_count": 16,
     "metadata": {},
     "output_type": "execute_result"
    },
    {
     "data": {
      "image/png": "[encoded data removed]",
      "text/plain": [
       "<Figure size 432x288 with 1 Axes>"
      ]
     },
     "metadata": {
      "needs_background": "light"
     },
     "output_type": "display_data"
    }
   ],
   "source": [
    "df_by_car.last_break.mean().hist()"
   ]
  },
  {
   "cell_type": "markdown",
   "metadata": {},
   "source": [
    "### Average Stop time per day\n",
    "In this case, we need to group the dataframe by date."
   ]
  },
  {
   "cell_type": "code",
   "execution_count": 17,
   "metadata": {
    "execution": {
     "iopub.execute_input": "2021-09-20T13:40:58.579460Z",
     "iopub.status.busy": "2021-09-20T13:40:58.578540Z",
     "iopub.status.idle": "2021-09-20T13:40:58.590642Z",
     "shell.execute_reply": "2021-09-20T13:40:58.589365Z",
     "shell.execute_reply.started": "2021-09-20T13:40:58.579413Z"
    }
   },
   "outputs": [],
   "source": [
    "# Create a start date column how you did before\n",
    "trips_df['start_date'] = trips_df['start_time'].str.slice(stop=10)"
   ]
  },
  {
   "cell_type": "code",
   "execution_count": 18,
   "metadata": {
    "execution": {
     "iopub.execute_input": "2021-09-20T13:40:59.448772Z",
     "iopub.status.busy": "2021-09-20T13:40:59.447917Z",
     "iopub.status.idle": "2021-09-20T13:40:59.458633Z",
     "shell.execute_reply": "2021-09-20T13:40:59.457695Z",
     "shell.execute_reply.started": "2021-09-20T13:40:59.448730Z"
    }
   },
   "outputs": [
    {
     "data": {
      "text/plain": [
       "0       2021-06-29\n",
       "1       2021-06-29\n",
       "2       2021-06-29\n",
       "3       2021-06-29\n",
       "4       2021-06-28\n",
       "           ...    \n",
       "1751    2021-06-23\n",
       "1752    2021-06-23\n",
       "1753    2021-06-23\n",
       "1754    2021-06-22\n",
       "1755    2021-06-02\n",
       "Name: start_date, Length: 1756, dtype: object"
      ]
     },
     "execution_count": 18,
     "metadata": {},
     "output_type": "execute_result"
    }
   ],
   "source": [
    "trips_df['start_date']"
   ]
  },
  {
   "cell_type": "code",
   "execution_count": 19,
   "metadata": {
    "execution": {
     "iopub.execute_input": "2021-09-20T13:41:39.954618Z",
     "iopub.status.busy": "2021-09-20T13:41:39.954285Z",
     "iopub.status.idle": "2021-09-20T13:41:39.965035Z",
     "shell.execute_reply": "2021-09-20T13:41:39.964292Z",
     "shell.execute_reply.started": "2021-09-20T13:41:39.954580Z"
    }
   },
   "outputs": [
    {
     "data": {
      "text/plain": [
       "start_date\n",
       "2021-06-01     53.394444\n",
       "2021-06-02    165.920968\n",
       "2021-06-03    339.016667\n",
       "2021-06-04    167.016410\n",
       "2021-06-05    315.268148\n",
       "2021-06-06    339.672000\n",
       "2021-06-07    306.418545\n",
       "2021-06-08    273.321905\n",
       "2021-06-09    331.973704\n",
       "2021-06-10    225.091414\n",
       "2021-06-11    389.237255\n",
       "2021-06-12    353.994186\n",
       "2021-06-13    576.166667\n",
       "2021-06-14    338.385057\n",
       "2021-06-15    371.192262\n",
       "2021-06-16    344.069118\n",
       "2021-06-17    231.712847\n",
       "2021-06-18    473.426712\n",
       "2021-06-19    269.355247\n",
       "2021-06-20    472.265476\n",
       "2021-06-21    343.644974\n",
       "2021-06-22    717.611806\n",
       "2021-06-23    212.284977\n",
       "2021-06-24    217.854286\n",
       "2021-06-25    240.530000\n",
       "2021-06-26    418.083654\n",
       "2021-06-27    321.880851\n",
       "2021-06-28    385.783831\n",
       "2021-06-29    425.490476\n",
       "2021-06-30    258.117500\n",
       "Name: last_break, dtype: float64"
      ]
     },
     "execution_count": 19,
     "metadata": {},
     "output_type": "execute_result"
    }
   ],
   "source": [
    "df_by_date = trips_df.groupby('start_date')\n",
    "df_by_date.last_break.mean() / 60 # Average of all cars stop time per each different day"
   ]
  },
  {
   "cell_type": "code",
   "execution_count": 20,
   "metadata": {
    "execution": {
     "iopub.execute_input": "2021-09-20T13:41:51.723990Z",
     "iopub.status.busy": "2021-09-20T13:41:51.723664Z",
     "iopub.status.idle": "2021-09-20T13:41:51.973138Z",
     "shell.execute_reply": "2021-09-20T13:41:51.972148Z",
     "shell.execute_reply.started": "2021-09-20T13:41:51.723956Z"
    }
   },
   "outputs": [
    {
     "data": {
      "text/plain": [
       "<matplotlib.axes._subplots.AxesSubplot at 0x22a1e378c40>"
      ]
     },
     "execution_count": 20,
     "metadata": {},
     "output_type": "execute_result"
    },
    {
     "data": {
      "image/png": "[encoded data removed]",
      "text/plain": [
       "<Figure size 432x288 with 1 Axes>"
      ]
     },
     "metadata": {
      "needs_background": "light"
     },
     "output_type": "display_data"
    }
   ],
   "source": [
    "df_by_date.last_break.mean().hist() # This is in seconds"
   ]
  },
  {
   "cell_type": "markdown",
   "metadata": {},
   "source": [
    "To show it in minutes or hours:"
   ]
  },
  {
   "cell_type": "code",
   "execution_count": 21,
   "metadata": {
    "execution": {
     "iopub.execute_input": "2021-09-20T13:43:22.852629Z",
     "iopub.status.busy": "2021-09-20T13:43:22.852305Z",
     "iopub.status.idle": "2021-09-20T13:43:23.119517Z",
     "shell.execute_reply": "2021-09-20T13:43:23.118604Z",
     "shell.execute_reply.started": "2021-09-20T13:43:22.852595Z"
    }
   },
   "outputs": [
    {
     "data": {
      "text/plain": [
       "<matplotlib.axes._subplots.AxesSubplot at 0x22a204132e0>"
      ]
     },
     "execution_count": 21,
     "metadata": {},
     "output_type": "execute_result"
    },
    {
     "data": {
      "image/png": "[encoded data removed]",
      "text/plain": [
       "<Figure size 432x288 with 1 Axes>"
      ]
     },
     "metadata": {
      "needs_background": "light"
     },
     "output_type": "display_data"
    }
   ],
   "source": [
    "trips_df['last_break_minutes'] = trips_df['last_break'] / 60\n",
    "trips_df['last_break_hours'] = trips_df['last_break'] / 60 / 60\n",
    "\n",
    "df_by_date = trips_df.groupby('start_date')\n",
    "df_by_date.last_break_minutes.mean().hist() # Same shape, different scale"
   ]
  },
  {
   "cell_type": "code",
   "execution_count": 22,
   "metadata": {},
   "outputs": [
    {
     "data": {
      "text/plain": [
       "0       37.450332\n",
       "1        1.287687\n",
       "2        1.188009\n",
       "3        1.289794\n",
       "4        1.159372\n",
       "          ...    \n",
       "1751    45.514643\n",
       "1752    56.148723\n",
       "1753     2.542226\n",
       "1754    56.315483\n",
       "1755     6.531418\n",
       "Name: distance, Length: 1756, dtype: float64"
      ]
     },
     "execution_count": 22,
     "metadata": {},
     "output_type": "execute_result"
    }
   ],
   "source": [
    "trips_df[\"distance\"]"
   ]
  },
  {
   "cell_type": "markdown",
   "metadata": {},
   "source": [
    "### Number of trips per day\n",
    "We can reuse the df grouped by date with the **size** method to get the number of observations for each separate date"
   ]
  },
  {
   "cell_type": "code",
   "execution_count": 23,
   "metadata": {
    "execution": {
     "iopub.execute_input": "2021-09-20T13:46:55.095757Z",
     "iopub.status.busy": "2021-09-20T13:46:55.095043Z",
     "iopub.status.idle": "2021-09-20T13:46:55.107026Z",
     "shell.execute_reply": "2021-09-20T13:46:55.105964Z",
     "shell.execute_reply.started": "2021-09-20T13:46:55.095712Z"
    }
   },
   "outputs": [
    {
     "data": {
      "text/plain": [
       "start_date\n",
       "2021-06-01    69\n",
       "2021-06-02    62\n",
       "2021-06-03    48\n",
       "2021-06-04    65\n",
       "2021-06-05    45\n",
       "2021-06-06    50\n",
       "2021-06-07    71\n",
       "2021-06-08    70\n",
       "2021-06-09    45\n",
       "2021-06-10    66\n",
       "2021-06-11    68\n",
       "2021-06-12    43\n",
       "2021-06-13    22\n",
       "2021-06-14    58\n",
       "2021-06-15    56\n",
       "2021-06-16    68\n",
       "2021-06-17    48\n",
       "2021-06-18    73\n",
       "2021-06-19    54\n",
       "2021-06-20    42\n",
       "2021-06-21    63\n",
       "2021-06-22    72\n",
       "2021-06-23    71\n",
       "2021-06-24    70\n",
       "2021-06-25    75\n",
       "2021-06-26    52\n",
       "2021-06-27    47\n",
       "2021-06-28    67\n",
       "2021-06-29    56\n",
       "2021-06-30    60\n",
       "dtype: int64"
      ]
     },
     "execution_count": 23,
     "metadata": {},
     "output_type": "execute_result"
    }
   ],
   "source": [
    "df_by_date.size()"
   ]
  },
  {
   "cell_type": "code",
   "execution_count": 24,
   "metadata": {
    "execution": {
     "iopub.execute_input": "2021-09-20T13:47:25.039769Z",
     "iopub.status.busy": "2021-09-20T13:47:25.039277Z",
     "iopub.status.idle": "2021-09-20T13:47:25.292533Z",
     "shell.execute_reply": "2021-09-20T13:47:25.291566Z",
     "shell.execute_reply.started": "2021-09-20T13:47:25.039729Z"
    }
   },
   "outputs": [
    {
     "data": {
      "text/plain": [
       "<matplotlib.axes._subplots.AxesSubplot at 0x22a20490280>"
      ]
     },
     "execution_count": 24,
     "metadata": {},
     "output_type": "execute_result"
    },
    {
     "data": {
      "image/png": "[encoded data removed]",
      "text/plain": [
       "<Figure size 432x288 with 1 Axes>"
      ]
     },
     "metadata": {
      "needs_background": "light"
     },
     "output_type": "display_data"
    }
   ],
   "source": [
    "df_by_date.size().hist()  # Total trips per day"
   ]
  },
  {
   "cell_type": "code",
   "execution_count": null,
   "metadata": {},
   "outputs": [],
   "source": []
  },
  {
   "cell_type": "code",
   "execution_count": null,
   "metadata": {},
   "outputs": [],
   "source": []
  },
  {
   "cell_type": "code",
   "execution_count": null,
   "metadata": {},
   "outputs": [],
   "source": []
  }
 ],
 "metadata": {
  "kernelspec": {
   "display_name": "Python 3",
   "language": "python",
   "name": "python3"
  },
  "language_info": {
   "codemirror_mode": {
    "name": "ipython",
    "version": 3
   },
   "file_extension": ".py",
   "mimetype": "text/x-python",
   "name": "python",
   "nbconvert_exporter": "python",
   "pygments_lexer": "ipython3",
   "version": "3.8.3"
  }
 },
 "nbformat": 4,
 "nbformat_minor": 4
}
