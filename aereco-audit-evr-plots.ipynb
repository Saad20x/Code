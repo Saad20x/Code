{
 "cells": [
  {
   "cell_type": "code",
   "execution_count": 12,
   "metadata": {
    "execution": {
     "iopub.execute_input": "2021-09-15T10:07:13.146180Z",
     "iopub.status.busy": "2021-09-15T10:07:13.145472Z",
     "iopub.status.idle": "2021-09-15T10:07:13.207784Z",
     "shell.execute_reply": "2021-09-15T10:07:13.206879Z",
     "shell.execute_reply.started": "2021-09-15T10:07:13.146037Z"
    }
   },
   "outputs": [],
   "source": [
    "import numpy as np\n",
    "import pandas as pd\n",
    "import json\n",
    "\n",
    "with open('C:/Users/Saad/Downloads/archive/profiles.json') as f:  # load json file\n",
    "    data = json.load(f)"
   ]
  },
  {
   "cell_type": "markdown",
   "metadata": {},
   "source": [
    "## Data Structure:\n",
    "* **profiles**\n",
    "    - **car**\n",
    "        - *id*\n",
    "        - *license_plate*\n",
    "        - *brand*\n",
    "        - *model*\n",
    "        - *production_year*\n",
    "        - *data_source*\n",
    "    - **trips**\n",
    "        - *driver*\n",
    "            - id\n",
    "            - first_name\n",
    "            - last_name\n",
    "            - gender\n",
    "        - *distance* (Km)\n",
    "        - *start_location*\n",
    "            - latitude\n",
    "            - longitude\n",
    "        - *start_time* (trip recorded start time)\n",
    "        - *end_time* ((trip recorded end time)\n",
    "        - *last_break* (seconds: pause time after previous trip end)\n",
    "        - *best_available_short* (1F, 3F, fast or None: fastest available charger < 1Km of start location)\n",
    "        - *is_home* (True/False: trip starts < 1Km of driver's home location)\n",
    "        - *is_work* (True/False: trip starts < 1Km of driver's office location)\n",
    "        - *can_recharge* (True/False: car did not move > 1Km in-between recorded spots)"
   ]
  },
  {
   "cell_type": "code",
   "execution_count": 13,
   "metadata": {
    "execution": {
     "iopub.execute_input": "2021-09-15T10:07:13.210052Z",
     "iopub.status.busy": "2021-09-15T10:07:13.209547Z",
     "iopub.status.idle": "2021-09-15T10:07:13.219251Z",
     "shell.execute_reply": "2021-09-15T10:07:13.218191Z",
     "shell.execute_reply.started": "2021-09-15T10:07:13.210009Z"
    }
   },
   "outputs": [
    {
     "data": {
      "text/plain": [
       "16"
      ]
     },
     "execution_count": 13,
     "metadata": {},
     "output_type": "execute_result"
    }
   ],
   "source": [
    "len(data['profiles']) # 16 profiles"
   ]
  },
  {
   "cell_type": "code",
   "execution_count": 14,
   "metadata": {
    "execution": {
     "iopub.execute_input": "2021-09-15T10:07:13.221441Z",
     "iopub.status.busy": "2021-09-15T10:07:13.221127Z",
     "iopub.status.idle": "2021-09-15T10:07:13.233957Z",
     "shell.execute_reply": "2021-09-15T10:07:13.232890Z",
     "shell.execute_reply.started": "2021-09-15T10:07:13.221401Z"
    }
   },
   "outputs": [
    {
     "data": {
      "text/plain": [
       "{'id': 15,\n",
       " 'license_plate': 'WI361HF',\n",
       " 'brand': 'Ford',\n",
       " 'model': 'FOCUS',\n",
       " 'production_year': 2018,\n",
       " 'data_source': 'dfm'}"
      ]
     },
     "execution_count": 14,
     "metadata": {},
     "output_type": "execute_result"
    }
   ],
   "source": [
    "data['profiles'][0]['car'] # Car for first profile"
   ]
  },
  {
   "cell_type": "code",
   "execution_count": 15,
   "metadata": {
    "execution": {
     "iopub.execute_input": "2021-09-15T10:07:13.237236Z",
     "iopub.status.busy": "2021-09-15T10:07:13.236850Z",
     "iopub.status.idle": "2021-09-15T10:07:13.245991Z",
     "shell.execute_reply": "2021-09-15T10:07:13.244915Z",
     "shell.execute_reply.started": "2021-09-15T10:07:13.237194Z"
    }
   },
   "outputs": [
    {
     "data": {
      "text/plain": [
       "{'driver': {'id': 62,\n",
       "  'first_name': 'Dorota',\n",
       "  'last_name': 'Mańkowska',\n",
       "  'gender': 'female'},\n",
       " 'distance': 37.4503324547605,\n",
       " 'start_location': {'latitude': 52.14920234483962,\n",
       "  'longitude': 21.055473350109075},\n",
       " 'start_time': '2021-06-29T12:54:41Z',\n",
       " 'end_time': '2021-06-29T13:58:33Z',\n",
       " 'last_break': 124,\n",
       " 'best_available_short': None,\n",
       " 'is_home': False,\n",
       " 'is_work': False,\n",
       " 'can_recharge': True}"
      ]
     },
     "execution_count": 15,
     "metadata": {},
     "output_type": "execute_result"
    }
   ],
   "source": [
    "data['profiles'][0]['trips'][0] # First trip of the first profile"
   ]
  },
  {
   "cell_type": "markdown",
   "metadata": {},
   "source": [
    "### Making data usable for pandas by reducing it to a one-layer structure"
   ]
  },
  {
   "cell_type": "markdown",
   "metadata": {},
   "source": [
    "1) Adding license plate within trip data (it's usually contained at a higher level, in the profile data)\n"
   ]
  },
  {
   "cell_type": "code",
   "execution_count": 16,
   "metadata": {
    "execution": {
     "iopub.execute_input": "2021-09-15T10:07:13.247734Z",
     "iopub.status.busy": "2021-09-15T10:07:13.247440Z",
     "iopub.status.idle": "2021-09-15T10:07:13.258025Z",
     "shell.execute_reply": "2021-09-15T10:07:13.257058Z",
     "shell.execute_reply.started": "2021-09-15T10:07:13.247699Z"
    }
   },
   "outputs": [],
   "source": [
    "for profile in data['profiles']:\n",
    "    for trip in profile['trips']:\n",
    "        trip['car_license_plate'] = profile['car']['license_plate']"
   ]
  },
  {
   "cell_type": "markdown",
   "metadata": {},
   "source": [
    "2) Removing Layers: we are mainly interested in trip data"
   ]
  },
  {
   "cell_type": "code",
   "execution_count": 17,
   "metadata": {
    "execution": {
     "iopub.execute_input": "2021-09-15T10:07:13.260528Z",
     "iopub.status.busy": "2021-09-15T10:07:13.259746Z",
     "iopub.status.idle": "2021-09-15T10:07:13.269969Z",
     "shell.execute_reply": "2021-09-15T10:07:13.269206Z",
     "shell.execute_reply.started": "2021-09-15T10:07:13.260473Z"
    }
   },
   "outputs": [],
   "source": [
    "trip_data = [\n",
    "    trip for profile in data['profiles'] for trip in profile['trips']\n",
    "]"
   ]
  },
  {
   "cell_type": "code",
   "execution_count": 18,
   "metadata": {
    "execution": {
     "iopub.execute_input": "2021-09-15T10:07:13.272165Z",
     "iopub.status.busy": "2021-09-15T10:07:13.271245Z",
     "iopub.status.idle": "2021-09-15T10:07:13.284276Z",
     "shell.execute_reply": "2021-09-15T10:07:13.283487Z",
     "shell.execute_reply.started": "2021-09-15T10:07:13.272123Z"
    }
   },
   "outputs": [
    {
     "data": {
      "text/plain": [
       "1756"
      ]
     },
     "execution_count": 18,
     "metadata": {},
     "output_type": "execute_result"
    }
   ],
   "source": [
    "len(trip_data)  # 1756 total trips"
   ]
  },
  {
   "cell_type": "code",
   "execution_count": 19,
   "metadata": {
    "execution": {
     "iopub.execute_input": "2021-09-15T10:07:13.285745Z",
     "iopub.status.busy": "2021-09-15T10:07:13.285444Z",
     "iopub.status.idle": "2021-09-15T10:07:13.299380Z",
     "shell.execute_reply": "2021-09-15T10:07:13.298545Z",
     "shell.execute_reply.started": "2021-09-15T10:07:13.285709Z"
    }
   },
   "outputs": [
    {
     "data": {
      "text/plain": [
       "{'driver': {'id': 62,\n",
       "  'first_name': 'Dorota',\n",
       "  'last_name': 'Mańkowska',\n",
       "  'gender': 'female'},\n",
       " 'distance': 37.4503324547605,\n",
       " 'start_location': {'latitude': 52.14920234483962,\n",
       "  'longitude': 21.055473350109075},\n",
       " 'start_time': '2021-06-29T12:54:41Z',\n",
       " 'end_time': '2021-06-29T13:58:33Z',\n",
       " 'last_break': 124,\n",
       " 'best_available_short': None,\n",
       " 'is_home': False,\n",
       " 'is_work': False,\n",
       " 'can_recharge': True,\n",
       " 'car_license_plate': 'WI361HF'}"
      ]
     },
     "execution_count": 19,
     "metadata": {},
     "output_type": "execute_result"
    }
   ],
   "source": [
    "trip_data[0] # Only one layer"
   ]
  },
  {
   "cell_type": "code",
   "execution_count": 20,
   "metadata": {
    "execution": {
     "iopub.execute_input": "2021-09-15T10:07:13.301136Z",
     "iopub.status.busy": "2021-09-15T10:07:13.300297Z",
     "iopub.status.idle": "2021-09-15T10:07:13.314153Z",
     "shell.execute_reply": "2021-09-15T10:07:13.313248Z",
     "shell.execute_reply.started": "2021-09-15T10:07:13.301085Z"
    }
   },
   "outputs": [],
   "source": [
    "for t in trip_data:  # Re-structuring data for pandas import\n",
    "    t['driver'] = t['driver']['id']\n",
    "    t['latitude'] = t['start_location']['latitude']\n",
    "    t['longitude'] = t['start_location']['longitude']\n",
    "    t.pop('start_location')"
   ]
  },
  {
   "cell_type": "code",
   "execution_count": 21,
   "metadata": {
    "execution": {
     "iopub.execute_input": "2021-09-15T10:07:13.317412Z",
     "iopub.status.busy": "2021-09-15T10:07:13.316765Z",
     "iopub.status.idle": "2021-09-15T10:07:13.330905Z",
     "shell.execute_reply": "2021-09-15T10:07:13.330032Z",
     "shell.execute_reply.started": "2021-09-15T10:07:13.317371Z"
    }
   },
   "outputs": [
    {
     "data": {
      "text/plain": [
       "{'driver': 62,\n",
       " 'distance': 37.4503324547605,\n",
       " 'start_time': '2021-06-29T12:54:41Z',\n",
       " 'end_time': '2021-06-29T13:58:33Z',\n",
       " 'last_break': 124,\n",
       " 'best_available_short': None,\n",
       " 'is_home': False,\n",
       " 'is_work': False,\n",
       " 'can_recharge': True,\n",
       " 'car_license_plate': 'WI361HF',\n",
       " 'latitude': 52.14920234483962,\n",
       " 'longitude': 21.055473350109075}"
      ]
     },
     "execution_count": 21,
     "metadata": {},
     "output_type": "execute_result"
    }
   ],
   "source": [
    "trip_data[0]"
   ]
  },
  {
   "cell_type": "code",
   "execution_count": 37,
   "metadata": {
    "execution": {
     "iopub.execute_input": "2021-09-15T10:07:13.332543Z",
     "iopub.status.busy": "2021-09-15T10:07:13.332142Z",
     "iopub.status.idle": "2021-09-15T10:07:13.372849Z",
     "shell.execute_reply": "2021-09-15T10:07:13.371979Z",
     "shell.execute_reply.started": "2021-09-15T10:07:13.332513Z"
    }
   },
   "outputs": [
    {
     "data": {
      "text/html": [
       "<div>\n",
       "<style scoped>\n",
       "    .dataframe tbody tr th:only-of-type {\n",
       "        vertical-align: middle;\n",
       "    }\n",
       "\n",
       "    .dataframe tbody tr th {\n",
       "        vertical-align: top;\n",
       "    }\n",
       "\n",
       "    .dataframe thead th {\n",
       "        text-align: right;\n",
       "    }\n",
       "</style>\n",
       "<table border=\"1\" class=\"dataframe\">\n",
       "  <thead>\n",
       "    <tr style=\"text-align: right;\">\n",
       "      <th></th>\n",
       "      <th>driver</th>\n",
       "      <th>distance</th>\n",
       "      <th>start_time</th>\n",
       "      <th>end_time</th>\n",
       "      <th>last_break</th>\n",
       "      <th>best_available_short</th>\n",
       "      <th>is_home</th>\n",
       "      <th>is_work</th>\n",
       "      <th>can_recharge</th>\n",
       "      <th>car_license_plate</th>\n",
       "      <th>latitude</th>\n",
       "      <th>longitude</th>\n",
       "    </tr>\n",
       "  </thead>\n",
       "  <tbody>\n",
       "    <tr>\n",
       "      <th>0</th>\n",
       "      <td>62</td>\n",
       "      <td>37.450332</td>\n",
       "      <td>2021-06-29T12:54:41Z</td>\n",
       "      <td>2021-06-29T13:58:33Z</td>\n",
       "      <td>124</td>\n",
       "      <td>None</td>\n",
       "      <td>False</td>\n",
       "      <td>False</td>\n",
       "      <td>True</td>\n",
       "      <td>WI361HF</td>\n",
       "      <td>52.149202</td>\n",
       "      <td>21.055473</td>\n",
       "    </tr>\n",
       "    <tr>\n",
       "      <th>1</th>\n",
       "      <td>62</td>\n",
       "      <td>1.287687</td>\n",
       "      <td>2021-06-29T12:47:19Z</td>\n",
       "      <td>2021-06-29T12:52:37Z</td>\n",
       "      <td>14380</td>\n",
       "      <td>None</td>\n",
       "      <td>False</td>\n",
       "      <td>False</td>\n",
       "      <td>True</td>\n",
       "      <td>WI361HF</td>\n",
       "      <td>52.142642</td>\n",
       "      <td>21.053358</td>\n",
       "    </tr>\n",
       "    <tr>\n",
       "      <th>2</th>\n",
       "      <td>62</td>\n",
       "      <td>1.188009</td>\n",
       "      <td>2021-06-29T08:43:25Z</td>\n",
       "      <td>2021-06-29T08:47:39Z</td>\n",
       "      <td>1711</td>\n",
       "      <td>None</td>\n",
       "      <td>False</td>\n",
       "      <td>False</td>\n",
       "      <td>True</td>\n",
       "      <td>WI361HF</td>\n",
       "      <td>52.149121</td>\n",
       "      <td>21.055582</td>\n",
       "    </tr>\n",
       "    <tr>\n",
       "      <th>3</th>\n",
       "      <td>62</td>\n",
       "      <td>1.289794</td>\n",
       "      <td>2021-06-29T08:08:36Z</td>\n",
       "      <td>2021-06-29T08:14:54Z</td>\n",
       "      <td>53180</td>\n",
       "      <td>None</td>\n",
       "      <td>True</td>\n",
       "      <td>False</td>\n",
       "      <td>True</td>\n",
       "      <td>WI361HF</td>\n",
       "      <td>52.142666</td>\n",
       "      <td>21.053435</td>\n",
       "    </tr>\n",
       "    <tr>\n",
       "      <th>4</th>\n",
       "      <td>62</td>\n",
       "      <td>1.159372</td>\n",
       "      <td>2021-06-28T17:17:53Z</td>\n",
       "      <td>2021-06-28T17:22:16Z</td>\n",
       "      <td>1874</td>\n",
       "      <td>None</td>\n",
       "      <td>False</td>\n",
       "      <td>False</td>\n",
       "      <td>True</td>\n",
       "      <td>WI361HF</td>\n",
       "      <td>52.149386</td>\n",
       "      <td>21.055213</td>\n",
       "    </tr>\n",
       "    <tr>\n",
       "      <th>...</th>\n",
       "      <td>...</td>\n",
       "      <td>...</td>\n",
       "      <td>...</td>\n",
       "      <td>...</td>\n",
       "      <td>...</td>\n",
       "      <td>...</td>\n",
       "      <td>...</td>\n",
       "      <td>...</td>\n",
       "      <td>...</td>\n",
       "      <td>...</td>\n",
       "      <td>...</td>\n",
       "      <td>...</td>\n",
       "    </tr>\n",
       "    <tr>\n",
       "      <th>1751</th>\n",
       "      <td>52</td>\n",
       "      <td>45.514643</td>\n",
       "      <td>2021-06-23T15:31:02Z</td>\n",
       "      <td>2021-06-23T16:02:48Z</td>\n",
       "      <td>12801</td>\n",
       "      <td>None</td>\n",
       "      <td>False</td>\n",
       "      <td>True</td>\n",
       "      <td>True</td>\n",
       "      <td>WI480HF</td>\n",
       "      <td>52.373618</td>\n",
       "      <td>20.788366</td>\n",
       "    </tr>\n",
       "    <tr>\n",
       "      <th>1752</th>\n",
       "      <td>52</td>\n",
       "      <td>56.148723</td>\n",
       "      <td>2021-06-23T11:14:29Z</td>\n",
       "      <td>2021-06-23T11:57:41Z</td>\n",
       "      <td>887</td>\n",
       "      <td>None</td>\n",
       "      <td>False</td>\n",
       "      <td>False</td>\n",
       "      <td>True</td>\n",
       "      <td>WI480HF</td>\n",
       "      <td>52.683530</td>\n",
       "      <td>20.246949</td>\n",
       "    </tr>\n",
       "    <tr>\n",
       "      <th>1753</th>\n",
       "      <td>52</td>\n",
       "      <td>2.542226</td>\n",
       "      <td>2021-06-23T10:54:21Z</td>\n",
       "      <td>2021-06-23T10:59:42Z</td>\n",
       "      <td>66790</td>\n",
       "      <td>None</td>\n",
       "      <td>True</td>\n",
       "      <td>False</td>\n",
       "      <td>True</td>\n",
       "      <td>WI480HF</td>\n",
       "      <td>52.689482</td>\n",
       "      <td>20.252270</td>\n",
       "    </tr>\n",
       "    <tr>\n",
       "      <th>1754</th>\n",
       "      <td>52</td>\n",
       "      <td>56.315483</td>\n",
       "      <td>2021-06-22T15:34:49Z</td>\n",
       "      <td>2021-06-22T16:21:11Z</td>\n",
       "      <td>1731242</td>\n",
       "      <td>None</td>\n",
       "      <td>True</td>\n",
       "      <td>True</td>\n",
       "      <td>True</td>\n",
       "      <td>WI480HF</td>\n",
       "      <td>52.373631</td>\n",
       "      <td>20.788377</td>\n",
       "    </tr>\n",
       "    <tr>\n",
       "      <th>1755</th>\n",
       "      <td>52</td>\n",
       "      <td>6.531418</td>\n",
       "      <td>2021-06-02T14:32:43Z</td>\n",
       "      <td>2021-06-02T14:40:47Z</td>\n",
       "      <td>0</td>\n",
       "      <td>None</td>\n",
       "      <td>False</td>\n",
       "      <td>False</td>\n",
       "      <td>True</td>\n",
       "      <td>WI480HF</td>\n",
       "      <td>52.355538</td>\n",
       "      <td>20.867644</td>\n",
       "    </tr>\n",
       "  </tbody>\n",
       "</table>\n",
       "<p>1756 rows × 12 columns</p>\n",
       "</div>"
      ],
      "text/plain": [
       "      driver   distance            start_time              end_time  \\\n",
       "0         62  37.450332  2021-06-29T12:54:41Z  2021-06-29T13:58:33Z   \n",
       "1         62   1.287687  2021-06-29T12:47:19Z  2021-06-29T12:52:37Z   \n",
       "2         62   1.188009  2021-06-29T08:43:25Z  2021-06-29T08:47:39Z   \n",
       "3         62   1.289794  2021-06-29T08:08:36Z  2021-06-29T08:14:54Z   \n",
       "4         62   1.159372  2021-06-28T17:17:53Z  2021-06-28T17:22:16Z   \n",
       "...      ...        ...                   ...                   ...   \n",
       "1751      52  45.514643  2021-06-23T15:31:02Z  2021-06-23T16:02:48Z   \n",
       "1752      52  56.148723  2021-06-23T11:14:29Z  2021-06-23T11:57:41Z   \n",
       "1753      52   2.542226  2021-06-23T10:54:21Z  2021-06-23T10:59:42Z   \n",
       "1754      52  56.315483  2021-06-22T15:34:49Z  2021-06-22T16:21:11Z   \n",
       "1755      52   6.531418  2021-06-02T14:32:43Z  2021-06-02T14:40:47Z   \n",
       "\n",
       "      last_break best_available_short  is_home  is_work  can_recharge  \\\n",
       "0            124                 None    False    False          True   \n",
       "1          14380                 None    False    False          True   \n",
       "2           1711                 None    False    False          True   \n",
       "3          53180                 None     True    False          True   \n",
       "4           1874                 None    False    False          True   \n",
       "...          ...                  ...      ...      ...           ...   \n",
       "1751       12801                 None    False     True          True   \n",
       "1752         887                 None    False    False          True   \n",
       "1753       66790                 None     True    False          True   \n",
       "1754     1731242                 None     True     True          True   \n",
       "1755           0                 None    False    False          True   \n",
       "\n",
       "     car_license_plate   latitude  longitude  \n",
       "0              WI361HF  52.149202  21.055473  \n",
       "1              WI361HF  52.142642  21.053358  \n",
       "2              WI361HF  52.149121  21.055582  \n",
       "3              WI361HF  52.142666  21.053435  \n",
       "4              WI361HF  52.149386  21.055213  \n",
       "...                ...        ...        ...  \n",
       "1751           WI480HF  52.373618  20.788366  \n",
       "1752           WI480HF  52.683530  20.246949  \n",
       "1753           WI480HF  52.689482  20.252270  \n",
       "1754           WI480HF  52.373631  20.788377  \n",
       "1755           WI480HF  52.355538  20.867644  \n",
       "\n",
       "[1756 rows x 12 columns]"
      ]
     },
     "execution_count": 37,
     "metadata": {},
     "output_type": "execute_result"
    }
   ],
   "source": [
    "trips_df = pd.DataFrame.from_dict(trip_data)\n",
    "trips_df.head()"
   ]
  },
  {
   "cell_type": "code",
   "execution_count": 23,
   "metadata": {
    "execution": {
     "iopub.execute_input": "2021-09-15T10:07:13.374589Z",
     "iopub.status.busy": "2021-09-15T10:07:13.373949Z",
     "iopub.status.idle": "2021-09-15T10:07:13.386630Z",
     "shell.execute_reply": "2021-09-15T10:07:13.385976Z",
     "shell.execute_reply.started": "2021-09-15T10:07:13.374556Z"
    }
   },
   "outputs": [
    {
     "data": {
      "text/plain": [
       "array(['WI361HF', 'WI090HP', 'WU7944J', 'WI483HF', 'WZ5957S', 'WZ5952S',\n",
       "       'WU7441J', 'WI074HJ', 'WZ5956S', 'WT2661A', 'WI089HP', 'WU7451J',\n",
       "       'WY4056L', 'WT4931A', 'WU7588J', 'WI480HF'], dtype=object)"
      ]
     },
     "execution_count": 23,
     "metadata": {},
     "output_type": "execute_result"
    }
   ],
   "source": [
    "license_plates = trips_df.car_license_plate.unique() # Distinct license plates\n",
    "license_plates"
   ]
  },
  {
   "cell_type": "markdown",
   "metadata": {},
   "source": [
    "Trips for a given car:"
   ]
  },
  {
   "cell_type": "code",
   "execution_count": 49,
   "metadata": {
    "execution": {
     "iopub.execute_input": "2021-09-15T10:07:13.388359Z",
     "iopub.status.busy": "2021-09-15T10:07:13.387855Z",
     "iopub.status.idle": "2021-09-15T10:07:13.409969Z",
     "shell.execute_reply": "2021-09-15T10:07:13.409354Z",
     "shell.execute_reply.started": "2021-09-15T10:07:13.388327Z"
    }
   },
   "outputs": [
    {
     "data": {
      "text/html": [
       "<div>\n",
       "<style scoped>\n",
       "    .dataframe tbody tr th:only-of-type {\n",
       "        vertical-align: middle;\n",
       "    }\n",
       "\n",
       "    .dataframe tbody tr th {\n",
       "        vertical-align: top;\n",
       "    }\n",
       "\n",
       "    .dataframe thead th {\n",
       "        text-align: right;\n",
       "    }\n",
       "</style>\n",
       "<table border=\"1\" class=\"dataframe\">\n",
       "  <thead>\n",
       "    <tr style=\"text-align: right;\">\n",
       "      <th></th>\n",
       "      <th>driver</th>\n",
       "      <th>distance</th>\n",
       "      <th>start_time</th>\n",
       "      <th>end_time</th>\n",
       "      <th>last_break</th>\n",
       "      <th>best_available_short</th>\n",
       "      <th>is_home</th>\n",
       "      <th>is_work</th>\n",
       "      <th>can_recharge</th>\n",
       "      <th>car_license_plate</th>\n",
       "      <th>latitude</th>\n",
       "      <th>longitude</th>\n",
       "    </tr>\n",
       "  </thead>\n",
       "  <tbody>\n",
       "    <tr>\n",
       "      <th>0</th>\n",
       "      <td>62</td>\n",
       "      <td>37.450332</td>\n",
       "      <td>2021-06-29T12:54:41Z</td>\n",
       "      <td>2021-06-29T13:58:33Z</td>\n",
       "      <td>124</td>\n",
       "      <td>None</td>\n",
       "      <td>False</td>\n",
       "      <td>False</td>\n",
       "      <td>True</td>\n",
       "      <td>WI361HF</td>\n",
       "      <td>52.149202</td>\n",
       "      <td>21.055473</td>\n",
       "    </tr>\n",
       "    <tr>\n",
       "      <th>1</th>\n",
       "      <td>62</td>\n",
       "      <td>1.287687</td>\n",
       "      <td>2021-06-29T12:47:19Z</td>\n",
       "      <td>2021-06-29T12:52:37Z</td>\n",
       "      <td>14380</td>\n",
       "      <td>None</td>\n",
       "      <td>False</td>\n",
       "      <td>False</td>\n",
       "      <td>True</td>\n",
       "      <td>WI361HF</td>\n",
       "      <td>52.142642</td>\n",
       "      <td>21.053358</td>\n",
       "    </tr>\n",
       "    <tr>\n",
       "      <th>2</th>\n",
       "      <td>62</td>\n",
       "      <td>1.188009</td>\n",
       "      <td>2021-06-29T08:43:25Z</td>\n",
       "      <td>2021-06-29T08:47:39Z</td>\n",
       "      <td>1711</td>\n",
       "      <td>None</td>\n",
       "      <td>False</td>\n",
       "      <td>False</td>\n",
       "      <td>True</td>\n",
       "      <td>WI361HF</td>\n",
       "      <td>52.149121</td>\n",
       "      <td>21.055582</td>\n",
       "    </tr>\n",
       "    <tr>\n",
       "      <th>3</th>\n",
       "      <td>62</td>\n",
       "      <td>1.289794</td>\n",
       "      <td>2021-06-29T08:08:36Z</td>\n",
       "      <td>2021-06-29T08:14:54Z</td>\n",
       "      <td>53180</td>\n",
       "      <td>None</td>\n",
       "      <td>True</td>\n",
       "      <td>False</td>\n",
       "      <td>True</td>\n",
       "      <td>WI361HF</td>\n",
       "      <td>52.142666</td>\n",
       "      <td>21.053435</td>\n",
       "    </tr>\n",
       "    <tr>\n",
       "      <th>4</th>\n",
       "      <td>62</td>\n",
       "      <td>1.159372</td>\n",
       "      <td>2021-06-28T17:17:53Z</td>\n",
       "      <td>2021-06-28T17:22:16Z</td>\n",
       "      <td>1874</td>\n",
       "      <td>None</td>\n",
       "      <td>False</td>\n",
       "      <td>False</td>\n",
       "      <td>True</td>\n",
       "      <td>WI361HF</td>\n",
       "      <td>52.149386</td>\n",
       "      <td>21.055213</td>\n",
       "    </tr>\n",
       "    <tr>\n",
       "      <th>...</th>\n",
       "      <td>...</td>\n",
       "      <td>...</td>\n",
       "      <td>...</td>\n",
       "      <td>...</td>\n",
       "      <td>...</td>\n",
       "      <td>...</td>\n",
       "      <td>...</td>\n",
       "      <td>...</td>\n",
       "      <td>...</td>\n",
       "      <td>...</td>\n",
       "      <td>...</td>\n",
       "      <td>...</td>\n",
       "    </tr>\n",
       "    <tr>\n",
       "      <th>1751</th>\n",
       "      <td>52</td>\n",
       "      <td>45.514643</td>\n",
       "      <td>2021-06-23T15:31:02Z</td>\n",
       "      <td>2021-06-23T16:02:48Z</td>\n",
       "      <td>12801</td>\n",
       "      <td>None</td>\n",
       "      <td>False</td>\n",
       "      <td>True</td>\n",
       "      <td>True</td>\n",
       "      <td>WI480HF</td>\n",
       "      <td>52.373618</td>\n",
       "      <td>20.788366</td>\n",
       "    </tr>\n",
       "    <tr>\n",
       "      <th>1752</th>\n",
       "      <td>52</td>\n",
       "      <td>56.148723</td>\n",
       "      <td>2021-06-23T11:14:29Z</td>\n",
       "      <td>2021-06-23T11:57:41Z</td>\n",
       "      <td>887</td>\n",
       "      <td>None</td>\n",
       "      <td>False</td>\n",
       "      <td>False</td>\n",
       "      <td>True</td>\n",
       "      <td>WI480HF</td>\n",
       "      <td>52.683530</td>\n",
       "      <td>20.246949</td>\n",
       "    </tr>\n",
       "    <tr>\n",
       "      <th>1753</th>\n",
       "      <td>52</td>\n",
       "      <td>2.542226</td>\n",
       "      <td>2021-06-23T10:54:21Z</td>\n",
       "      <td>2021-06-23T10:59:42Z</td>\n",
       "      <td>66790</td>\n",
       "      <td>None</td>\n",
       "      <td>True</td>\n",
       "      <td>False</td>\n",
       "      <td>True</td>\n",
       "      <td>WI480HF</td>\n",
       "      <td>52.689482</td>\n",
       "      <td>20.252270</td>\n",
       "    </tr>\n",
       "    <tr>\n",
       "      <th>1754</th>\n",
       "      <td>52</td>\n",
       "      <td>56.315483</td>\n",
       "      <td>2021-06-22T15:34:49Z</td>\n",
       "      <td>2021-06-22T16:21:11Z</td>\n",
       "      <td>1731242</td>\n",
       "      <td>None</td>\n",
       "      <td>True</td>\n",
       "      <td>True</td>\n",
       "      <td>True</td>\n",
       "      <td>WI480HF</td>\n",
       "      <td>52.373631</td>\n",
       "      <td>20.788377</td>\n",
       "    </tr>\n",
       "    <tr>\n",
       "      <th>1755</th>\n",
       "      <td>52</td>\n",
       "      <td>6.531418</td>\n",
       "      <td>2021-06-02T14:32:43Z</td>\n",
       "      <td>2021-06-02T14:40:47Z</td>\n",
       "      <td>0</td>\n",
       "      <td>None</td>\n",
       "      <td>False</td>\n",
       "      <td>False</td>\n",
       "      <td>True</td>\n",
       "      <td>WI480HF</td>\n",
       "      <td>52.355538</td>\n",
       "      <td>20.867644</td>\n",
       "    </tr>\n",
       "  </tbody>\n",
       "</table>\n",
       "<p>1756 rows × 12 columns</p>\n",
       "</div>"
      ],
      "text/plain": [
       "      driver   distance            start_time              end_time  \\\n",
       "0         62  37.450332  2021-06-29T12:54:41Z  2021-06-29T13:58:33Z   \n",
       "1         62   1.287687  2021-06-29T12:47:19Z  2021-06-29T12:52:37Z   \n",
       "2         62   1.188009  2021-06-29T08:43:25Z  2021-06-29T08:47:39Z   \n",
       "3         62   1.289794  2021-06-29T08:08:36Z  2021-06-29T08:14:54Z   \n",
       "4         62   1.159372  2021-06-28T17:17:53Z  2021-06-28T17:22:16Z   \n",
       "...      ...        ...                   ...                   ...   \n",
       "1751      52  45.514643  2021-06-23T15:31:02Z  2021-06-23T16:02:48Z   \n",
       "1752      52  56.148723  2021-06-23T11:14:29Z  2021-06-23T11:57:41Z   \n",
       "1753      52   2.542226  2021-06-23T10:54:21Z  2021-06-23T10:59:42Z   \n",
       "1754      52  56.315483  2021-06-22T15:34:49Z  2021-06-22T16:21:11Z   \n",
       "1755      52   6.531418  2021-06-02T14:32:43Z  2021-06-02T14:40:47Z   \n",
       "\n",
       "      last_break best_available_short  is_home  is_work  can_recharge  \\\n",
       "0            124                 None    False    False          True   \n",
       "1          14380                 None    False    False          True   \n",
       "2           1711                 None    False    False          True   \n",
       "3          53180                 None     True    False          True   \n",
       "4           1874                 None    False    False          True   \n",
       "...          ...                  ...      ...      ...           ...   \n",
       "1751       12801                 None    False     True          True   \n",
       "1752         887                 None    False    False          True   \n",
       "1753       66790                 None     True    False          True   \n",
       "1754     1731242                 None     True     True          True   \n",
       "1755           0                 None    False    False          True   \n",
       "\n",
       "     car_license_plate   latitude  longitude  \n",
       "0              WI361HF  52.149202  21.055473  \n",
       "1              WI361HF  52.142642  21.053358  \n",
       "2              WI361HF  52.149121  21.055582  \n",
       "3              WI361HF  52.142666  21.053435  \n",
       "4              WI361HF  52.149386  21.055213  \n",
       "...                ...        ...        ...  \n",
       "1751           WI480HF  52.373618  20.788366  \n",
       "1752           WI480HF  52.683530  20.246949  \n",
       "1753           WI480HF  52.689482  20.252270  \n",
       "1754           WI480HF  52.373631  20.788377  \n",
       "1755           WI480HF  52.355538  20.867644  \n",
       "\n",
       "[1756 rows x 12 columns]"
      ]
     },
     "execution_count": 49,
     "metadata": {},
     "output_type": "execute_result"
    }
   ],
   "source": [
    "trips_df"
   ]
  },
  {
   "cell_type": "markdown",
   "metadata": {},
   "source": [
    "### Average Distance of trips completed by first driver"
   ]
  },
  {
   "cell_type": "code",
   "execution_count": 50,
   "metadata": {
    "execution": {
     "iopub.execute_input": "2021-09-15T10:07:13.411676Z",
     "iopub.status.busy": "2021-09-15T10:07:13.410909Z",
     "iopub.status.idle": "2021-09-15T10:07:13.418530Z",
     "shell.execute_reply": "2021-09-15T10:07:13.417708Z",
     "shell.execute_reply.started": "2021-09-15T10:07:13.411646Z"
    }
   },
   "outputs": [
    {
     "data": {
      "text/plain": [
       "15.067165504810962"
      ]
     },
     "execution_count": 50,
     "metadata": {},
     "output_type": "execute_result"
    }
   ],
   "source": [
    "trips_df[trips_df.car_license_plate == 'WI361HF'].distance.mean()"
   ]
  },
  {
   "cell_type": "code",
   "execution_count": 4,
   "metadata": {},
   "outputs": [
    {
     "ename": "NameError",
     "evalue": "name 'trips_df' is not defined",
     "output_type": "error",
     "traceback": [
      "\u001b[1;31m---------------------------------------------------------------------------\u001b[0m",
      "\u001b[1;31mNameError\u001b[0m                                 Traceback (most recent call last)",
      "\u001b[1;32m<ipython-input-4-25bac13f445b>\u001b[0m in \u001b[0;36m<module>\u001b[1;34m\u001b[0m\n\u001b[1;32m----> 1\u001b[1;33m \u001b[0mtrips_df\u001b[0m\u001b[1;33m[\u001b[0m\u001b[1;34m'start_time'\u001b[0m\u001b[1;33m]\u001b[0m\u001b[1;33m\u001b[0m\u001b[1;33m\u001b[0m\u001b[0m\n\u001b[0m",
      "\u001b[1;31mNameError\u001b[0m: name 'trips_df' is not defined"
     ]
    }
   ],
   "source": [
    "trips_df[['start_time']]"
   ]
  },
  {
   "cell_type": "markdown",
   "metadata": {},
   "source": [
    "### Distance Histogram for all cars"
   ]
  },
  {
   "cell_type": "code",
   "execution_count": 52,
   "metadata": {
    "execution": {
     "iopub.execute_input": "2021-09-15T10:07:13.420002Z",
     "iopub.status.busy": "2021-09-15T10:07:13.419700Z",
     "iopub.status.idle": "2021-09-15T10:07:13.737430Z",
     "shell.execute_reply": "2021-09-15T10:07:13.736567Z",
     "shell.execute_reply.started": "2021-09-15T10:07:13.419965Z"
    }
   },
   "outputs": [
    {
     "data": {
      "text/plain": [
       "<matplotlib.axes._subplots.AxesSubplot at 0x1f730523520>"
      ]
     },
     "execution_count": 52,
     "metadata": {},
     "output_type": "execute_result"
    },
    {
     "data": {
      "image/png": "[encoded data removed]",
      "text/plain": [
       "<Figure size 432x288 with 1 Axes>"
      ]
     },
     "metadata": {
      "needs_background": "light"
     },
     "output_type": "display_data"
    }
   ],
   "source": [
    "trips_df.distance.plot.hist(bins=50)"
   ]
  },
  {
   "cell_type": "code",
   "execution_count": 27,
   "metadata": {
    "execution": {
     "iopub.execute_input": "2021-09-15T10:07:13.738903Z",
     "iopub.status.busy": "2021-09-15T10:07:13.738538Z",
     "iopub.status.idle": "2021-09-15T10:07:16.089384Z",
     "shell.execute_reply": "2021-09-15T10:07:16.088348Z",
     "shell.execute_reply.started": "2021-09-15T10:07:13.738875Z"
    }
   },
   "outputs": [
    {
     "data": {
      "text/plain": [
       "<matplotlib.axes._subplots.AxesSubplot at 0x1f72ea739d0>"
      ]
     },
     "execution_count": 27,
     "metadata": {},
     "output_type": "execute_result"
    },
    {
     "data": {
      "image/png": "[encoded data removed]",
      "text/plain": [
       "<Figure size 432x288 with 1 Axes>"
      ]
     },
     "metadata": {
      "needs_background": "light"
     },
     "output_type": "display_data"
    }
   ],
   "source": [
    "trips_df.pivot(columns='car_license_plate', values='distance').plot.hist(bins=50)"
   ]
  },
  {
   "cell_type": "markdown",
   "metadata": {
    "execution": {
     "iopub.execute_input": "2021-09-14T13:33:02.865025Z",
     "iopub.status.busy": "2021-09-14T13:33:02.864569Z",
     "iopub.status.idle": "2021-09-14T13:33:02.869079Z",
     "shell.execute_reply": "2021-09-14T13:33:02.868324Z",
     "shell.execute_reply.started": "2021-09-14T13:33:02.864987Z"
    }
   },
   "source": [
    "### Average Distance per car"
   ]
  },
  {
   "cell_type": "code",
   "execution_count": 28,
   "metadata": {
    "execution": {
     "iopub.execute_input": "2021-09-15T10:07:16.090760Z",
     "iopub.status.busy": "2021-09-15T10:07:16.090538Z",
     "iopub.status.idle": "2021-09-15T10:07:16.101930Z",
     "shell.execute_reply": "2021-09-15T10:07:16.101007Z",
     "shell.execute_reply.started": "2021-09-15T10:07:16.090735Z"
    }
   },
   "outputs": [
    {
     "data": {
      "text/plain": [
       "car_license_plate\n",
       "WI074HJ    27.646653\n",
       "WI089HP    19.598897\n",
       "WI090HP     4.318667\n",
       "WI361HF    12.480910\n",
       "WI480HF    27.150967\n",
       "WI483HF    14.372371\n",
       "WT2661A    17.373807\n",
       "WT4931A    14.250773\n",
       "WU7441J    13.340620\n",
       "WU7451J    16.472998\n",
       "WU7588J    15.221358\n",
       "WU7944J     5.996998\n",
       "WY4056L    12.807729\n",
       "WZ5952S    20.315655\n",
       "WZ5956S    26.937375\n",
       "WZ5957S    14.670072\n",
       "Name: distance, dtype: float64"
      ]
     },
     "execution_count": 28,
     "metadata": {},
     "output_type": "execute_result"
    }
   ],
   "source": [
    "trips_df.groupby('car_license_plate').distance.mean()"
   ]
  },
  {
   "cell_type": "code",
   "execution_count": 33,
   "metadata": {
    "execution": {
     "iopub.execute_input": "2021-09-15T10:07:16.103813Z",
     "iopub.status.busy": "2021-09-15T10:07:16.103490Z",
     "iopub.status.idle": "2021-09-15T10:07:16.350244Z",
     "shell.execute_reply": "2021-09-15T10:07:16.349322Z",
     "shell.execute_reply.started": "2021-09-15T10:07:16.103772Z"
    }
   },
   "outputs": [
    {
     "data": {
      "text/plain": [
       "<matplotlib.axes._subplots.AxesSubplot at 0x1f72f380d90>"
      ]
     },
     "execution_count": 33,
     "metadata": {},
     "output_type": "execute_result"
    },
    {
     "data": {
      "image/png": "[encoded data removed]",
      "text/plain": [
       "<Figure size 432x288 with 1 Axes>"
      ]
     },
     "metadata": {
      "needs_background": "light"
     },
     "output_type": "display_data"
    }
   ],
   "source": [
    "trips_df.groupby('car_license_plate').distance.mean().plot.hist()"
   ]
  },
  {
   "cell_type": "code",
   "execution_count": null,
   "metadata": {},
   "outputs": [],
   "source": []
  },
  {
   "cell_type": "code",
   "execution_count": null,
   "metadata": {},
   "outputs": [],
   "source": []
  },
  {
   "cell_type": "code",
   "execution_count": null,
   "metadata": {},
   "outputs": [],
   "source": []
  },
  {
   "cell_type": "code",
   "execution_count": null,
   "metadata": {},
   "outputs": [],
   "source": []
  },
  {
   "cell_type": "code",
   "execution_count": null,
   "metadata": {},
   "outputs": [],
   "source": []
  }
 ],
 "metadata": {
  "kernelspec": {
   "display_name": "Python 3",
   "language": "python",
   "name": "python3"
  },
  "language_info": {
   "codemirror_mode": {
    "name": "ipython",
    "version": 3
   },
   "file_extension": ".py",
   "mimetype": "text/x-python",
   "name": "python",
   "nbconvert_exporter": "python",
   "pygments_lexer": "ipython3",
   "version": "3.8.3"
  }
 },
 "nbformat": 4,
 "nbformat_minor": 4
}
